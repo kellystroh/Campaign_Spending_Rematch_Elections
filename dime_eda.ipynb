{
 "cells": [
  {
   "cell_type": "code",
   "execution_count": 1,
   "metadata": {},
   "outputs": [
    {
     "data": {
      "text/plain": [
       "'\\nget file in jupyter cell\\n%load filename.py\\n\\nsave to file from jupyter cell (will overwrite)\\n%%writefile filename.py\\n'"
      ]
     },
     "execution_count": 1,
     "metadata": {},
     "output_type": "execute_result"
    }
   ],
   "source": [
    "'''\n",
    "get file in jupyter cell\n",
    "%load filename.py\n",
    "\n",
    "save to file from jupyter cell (will overwrite)\n",
    "%%writefile filename.py\n",
    "'''"
   ]
  },
  {
   "cell_type": "code",
   "execution_count": 3,
   "metadata": {},
   "outputs": [],
   "source": [
    "%matplotlib inline\n",
    "\n",
    "import pandas as pd\n",
    "import numpy as np\n",
    "import scipy as sp\n",
    "import scipy.stats as stats\n",
    "import matplotlib.pyplot as plt\n",
    "from load import rematch_sets, rematch_cand\n",
    "\n",
    "plt.style.use('ggplot')"
   ]
  },
  {
   "cell_type": "code",
   "execution_count": 4,
   "metadata": {},
   "outputs": [],
   "source": [
    "cand_df = pd.read_csv('data/candidate_df.csv')"
   ]
  },
  {
   "cell_type": "code",
   "execution_count": 5,
   "metadata": {},
   "outputs": [],
   "source": [
    "col_short_list = ['election', 'Cand.ID', 'ICPSR', 'name','party', 'state', 'district', \n",
    "                  'Incum.Chall', 'total.disbursements', 'total.receipts','gen.elec.stat',\n",
    "                  'gen.elect.pct', 'winner', 'district.partisanship', 'race_ID']"
   ]
  },
  {
   "cell_type": "code",
   "execution_count": 6,
   "metadata": {},
   "outputs": [],
   "source": [
    "cand_df = cand_df[col_short_list]"
   ]
  },
  {
   "cell_type": "code",
   "execution_count": 7,
   "metadata": {},
   "outputs": [],
   "source": [
    "match_one = [x[0] for x in L.rematch_sets]\n",
    "match_two = [x[1] for x in L.rematch_sets]"
   ]
  },
  {
   "cell_type": "code",
   "execution_count": 8,
   "metadata": {
    "scrolled": true
   },
   "outputs": [],
   "source": [
    "match1_df = cand_df[cand_df['race_ID'].isin(match_one)].copy()\n",
    "match2_df = cand_df[cand_df['race_ID'].isin(match_two)].copy()"
   ]
  },
  {
   "cell_type": "code",
   "execution_count": 11,
   "metadata": {},
   "outputs": [],
   "source": [
    "rematch_cand_A = [each[0] for each in L.rematch_cand if len(each)==2]\n",
    "rematch_cand_B = [each[1] for each in L.rematch_cand if len(each)==2]"
   ]
  },
  {
   "cell_type": "code",
   "execution_count": 143,
   "metadata": {},
   "outputs": [],
   "source": [
    "match_1A = match1_df[match1_df['ICPSR'].isin(rematch_cand_A)].copy()\n",
    "match_1B = match1_df[match1_df['ICPSR'].isin(rematch_cand_B)].copy()"
   ]
  },
  {
   "cell_type": "code",
   "execution_count": 144,
   "metadata": {},
   "outputs": [],
   "source": [
    "match_2A = match2_df[match2_df['ICPSR'].isin(rematch_cand_A)].copy()\n",
    "match_2B = match2_df[match2_df['ICPSR'].isin(rematch_cand_B)].copy()"
   ]
  },
  {
   "cell_type": "code",
   "execution_count": 145,
   "metadata": {},
   "outputs": [
    {
     "data": {
      "text/plain": [
       "['election',\n",
       " 'Cand.ID',\n",
       " 'ICPSR',\n",
       " 'name',\n",
       " 'party',\n",
       " 'state',\n",
       " 'district',\n",
       " 'Incum.Chall',\n",
       " 'total.disbursements',\n",
       " 'total.receipts',\n",
       " 'gen.elec.stat',\n",
       " 'gen.elect.pct',\n",
       " 'winner',\n",
       " 'district.partisanship',\n",
       " 'race_ID']"
      ]
     },
     "execution_count": 145,
     "metadata": {},
     "output_type": "execute_result"
    }
   ],
   "source": [
    "columns_list = list(match_1A.columns)\n",
    "columns_list"
   ]
  },
  {
   "cell_type": "code",
   "execution_count": 146,
   "metadata": {},
   "outputs": [],
   "source": [
    "column_dictA1 = {'Cand.ID': 'A1_id', 'district.partisanship': 'DP1', 'ICPSR': 'A_ICPSR', 'name':'A1_name', 'party':'A1_party', 'Incum.Chall':'A1_IC', 'state':'state1', 'district':'district1', 'total.disbursements':'A1_spent', 'total.receipts':'A1_raised', 'gen.elect.pct':'A1_pct', 'winner':'A1_outcome', 'race_ID':'race1_ID'}\n",
    "column_dictB1 = {'Cand.ID': 'B1_id', 'district.partisanship': 'DP1', 'ICPSR': 'B_ICPSR', 'name':'B1_name', 'party':'B1_party', 'Incum.Chall':'B1_IC', 'state':'state1', 'district':'district1', 'total.disbursements':'B1_spent', 'total.receipts':'B1_raised', 'gen.elect.pct':'B1_pct', 'winner':'B1_outcome', 'race_ID':'race1_ID'}\n",
    "column_dictA2 = {'Cand.ID': 'A2_id', 'district.partisanship': 'DP2', 'ICPSR': 'A_ICPSR', 'name':'A2_name', 'party':'A2_party', 'Incum.Chall':'A2_IC', 'state':'state2', 'district':'district2', 'total.disbursements':'A2_spent', 'total.receipts':'A2_raised', 'gen.elect.pct':'A2_pct', 'winner':'A2_outcome', 'race_ID':'race2_ID'}\n",
    "column_dictB2 = {'Cand.ID': 'B2_id', 'district.partisanship': 'DP2', 'ICPSR': 'B_ICPSR', 'name':'B2_name', 'party':'B2_party', 'Incum.Chall':'B2_IC', 'state':'state2', 'district':'district2', 'total.disbursements':'B2_spent', 'total.receipts':'B2_raised', 'gen.elect.pct':'B2_pct', 'winner':'B2_outcome', 'race_ID':'race2_ID'}"
   ]
  },
  {
   "cell_type": "code",
   "execution_count": 147,
   "metadata": {},
   "outputs": [],
   "source": [
    "match_1A.rename(column_dictA1, axis='columns', inplace=True)\n",
    "match_1A.drop(['gen.elec.stat', 'election'], axis=1, inplace=True)\n",
    "match_2A.rename(column_dictA2, axis='columns', inplace=True)\n",
    "match_2A.drop(['gen.elec.stat', 'election'], axis=1, inplace=True)\n",
    "match_1B.rename(column_dictB1, axis='columns', inplace=True)\n",
    "match_1B.drop(['gen.elec.stat', 'election', 'state1', 'district1', 'DP1'], axis=1, inplace=True)\n",
    "match_2B.rename(column_dictB2, axis='columns', inplace=True)\n",
    "match_2B.drop(['gen.elec.stat', 'election', 'state2', 'district2', 'DP2'], axis=1, inplace=True)"
   ]
  },
  {
   "cell_type": "code",
   "execution_count": 148,
   "metadata": {
    "scrolled": true
   },
   "outputs": [],
   "source": [
    "# match_2A.set_index('race1_ID', inplace=True)"
   ]
  },
  {
   "cell_type": "code",
   "execution_count": 149,
   "metadata": {},
   "outputs": [],
   "source": [
    "first_match_df = match_1A.merge(match_1B)\n",
    "second_match_df = match_2A.merge(match_2B)"
   ]
  },
  {
   "cell_type": "code",
   "execution_count": 150,
   "metadata": {},
   "outputs": [],
   "source": [
    "col_order_1 = first_match_df.columns.tolist()\n",
    "col_order_1.remove('state1')\n",
    "col_order_1.remove('district1')\n",
    "col_order_1.remove('race1_ID')\n",
    "col_order_1.insert(0, 'race1_ID')\n",
    "col_order_1.insert(1, 'state1')\n",
    "col_order_1.insert(1, 'district1')\n",
    "\n",
    "col_order_2 = second_match_df.columns.tolist()\n",
    "col_order_2.remove('state2')\n",
    "col_order_2.remove('district2')\n",
    "col_order_2.remove('race2_ID')\n",
    "col_order_2.insert(0, 'race2_ID')\n",
    "col_order_2.insert(1, 'state2')\n",
    "col_order_2.insert(1, 'district2')"
   ]
  },
  {
   "cell_type": "code",
   "execution_count": 151,
   "metadata": {},
   "outputs": [],
   "source": [
    "first_match_df = first_match_df.reindex(columns=col_order_1)\n",
    "second_match_df = second_match_df.reindex(columns=col_order_2)"
   ]
  },
  {
   "cell_type": "code",
   "execution_count": 152,
   "metadata": {},
   "outputs": [
    {
     "data": {
      "text/html": [
       "<div>\n",
       "<style scoped>\n",
       "    .dataframe tbody tr th:only-of-type {\n",
       "        vertical-align: middle;\n",
       "    }\n",
       "\n",
       "    .dataframe tbody tr th {\n",
       "        vertical-align: top;\n",
       "    }\n",
       "\n",
       "    .dataframe thead th {\n",
       "        text-align: right;\n",
       "    }\n",
       "</style>\n",
       "<table border=\"1\" class=\"dataframe\">\n",
       "  <thead>\n",
       "    <tr style=\"text-align: right;\">\n",
       "      <th></th>\n",
       "      <th>race1_ID</th>\n",
       "      <th>district1</th>\n",
       "      <th>state1</th>\n",
       "      <th>A1_id</th>\n",
       "      <th>A_ICPSR</th>\n",
       "      <th>A1_name</th>\n",
       "      <th>A1_party</th>\n",
       "      <th>A1_IC</th>\n",
       "      <th>A1_spent</th>\n",
       "      <th>A1_raised</th>\n",
       "      <th>...</th>\n",
       "      <th>B1_id</th>\n",
       "      <th>B_ICPSR</th>\n",
       "      <th>B1_name</th>\n",
       "      <th>B1_party</th>\n",
       "      <th>B1_IC</th>\n",
       "      <th>B1_spent</th>\n",
       "      <th>B1_raised</th>\n",
       "      <th>B1_pct</th>\n",
       "      <th>B1_outcome</th>\n",
       "      <th>top_cands</th>\n",
       "    </tr>\n",
       "  </thead>\n",
       "  <tbody>\n",
       "    <tr>\n",
       "      <th>0</th>\n",
       "      <td>1980-TX21</td>\n",
       "      <td>TX21</td>\n",
       "      <td>TX</td>\n",
       "      <td>H8TX21067</td>\n",
       "      <td>146451980</td>\n",
       "      <td>loeffler, tom</td>\n",
       "      <td>200</td>\n",
       "      <td>I</td>\n",
       "      <td>330566.0</td>\n",
       "      <td>479486.0</td>\n",
       "      <td>...</td>\n",
       "      <td>H6TX21095</td>\n",
       "      <td>H6TX210951980</td>\n",
       "      <td>sullivan, joseph pierre</td>\n",
       "      <td>100</td>\n",
       "      <td>C</td>\n",
       "      <td>45382.0</td>\n",
       "      <td>45382.0</td>\n",
       "      <td>23.0</td>\n",
       "      <td>L</td>\n",
       "      <td>H8TX21067-H6TX21095</td>\n",
       "    </tr>\n",
       "    <tr>\n",
       "      <th>1</th>\n",
       "      <td>1980-NE02</td>\n",
       "      <td>NE02</td>\n",
       "      <td>NE</td>\n",
       "      <td>H8NE02022</td>\n",
       "      <td>148101980</td>\n",
       "      <td>daub, harold john jr (hal)</td>\n",
       "      <td>200</td>\n",
       "      <td>O</td>\n",
       "      <td>329671.0</td>\n",
       "      <td>331903.0</td>\n",
       "      <td>...</td>\n",
       "      <td>H0NE02052</td>\n",
       "      <td>H0NE020521980</td>\n",
       "      <td>fellman, richard m</td>\n",
       "      <td>100</td>\n",
       "      <td>O</td>\n",
       "      <td>153539.0</td>\n",
       "      <td>164860.0</td>\n",
       "      <td>44.0</td>\n",
       "      <td>L</td>\n",
       "      <td>H8NE02022-H0NE02052</td>\n",
       "    </tr>\n",
       "    <tr>\n",
       "      <th>2</th>\n",
       "      <td>1980-TX13</td>\n",
       "      <td>TX13</td>\n",
       "      <td>TX</td>\n",
       "      <td>H6TX13027</td>\n",
       "      <td>142341980</td>\n",
       "      <td>hightower, jack</td>\n",
       "      <td>100</td>\n",
       "      <td>I</td>\n",
       "      <td>145292.0</td>\n",
       "      <td>129293.0</td>\n",
       "      <td>...</td>\n",
       "      <td>H0TX13012</td>\n",
       "      <td>H0TX130121980</td>\n",
       "      <td>slover, ronald edward</td>\n",
       "      <td>200</td>\n",
       "      <td>C</td>\n",
       "      <td>68268.0</td>\n",
       "      <td>74715.0</td>\n",
       "      <td>45.0</td>\n",
       "      <td>L</td>\n",
       "      <td>H6TX13027-H0TX13012</td>\n",
       "    </tr>\n",
       "    <tr>\n",
       "      <th>3</th>\n",
       "      <td>1980-NM01</td>\n",
       "      <td>NM01</td>\n",
       "      <td>NM</td>\n",
       "      <td>H6NM01020</td>\n",
       "      <td>120221980</td>\n",
       "      <td>lujan, manuel jr</td>\n",
       "      <td>200</td>\n",
       "      <td>I</td>\n",
       "      <td>178309.0</td>\n",
       "      <td>185664.0</td>\n",
       "      <td>...</td>\n",
       "      <td>H0NM01015</td>\n",
       "      <td>150551980</td>\n",
       "      <td>richardson, william b</td>\n",
       "      <td>100</td>\n",
       "      <td>C</td>\n",
       "      <td>234737.0</td>\n",
       "      <td>237013.0</td>\n",
       "      <td>49.0</td>\n",
       "      <td>L</td>\n",
       "      <td>H6NM01020-H0NM01015</td>\n",
       "    </tr>\n",
       "    <tr>\n",
       "      <th>4</th>\n",
       "      <td>1980-MD02</td>\n",
       "      <td>MD02</td>\n",
       "      <td>MD</td>\n",
       "      <td>H6MD02039</td>\n",
       "      <td>106011980</td>\n",
       "      <td>long, clarence dickinson</td>\n",
       "      <td>100</td>\n",
       "      <td>I</td>\n",
       "      <td>153619.0</td>\n",
       "      <td>158280.0</td>\n",
       "      <td>...</td>\n",
       "      <td>H0MD02057</td>\n",
       "      <td>150861980</td>\n",
       "      <td>bentley, helen delich</td>\n",
       "      <td>200</td>\n",
       "      <td>C</td>\n",
       "      <td>252599.0</td>\n",
       "      <td>253028.0</td>\n",
       "      <td>43.0</td>\n",
       "      <td>L</td>\n",
       "      <td>H6MD02039-H0MD02057</td>\n",
       "    </tr>\n",
       "  </tbody>\n",
       "</table>\n",
       "<p>5 rows × 23 columns</p>\n",
       "</div>"
      ],
      "text/plain": [
       "    race1_ID district1 state1      A1_id    A_ICPSR  \\\n",
       "0  1980-TX21      TX21     TX  H8TX21067  146451980   \n",
       "1  1980-NE02      NE02     NE  H8NE02022  148101980   \n",
       "2  1980-TX13      TX13     TX  H6TX13027  142341980   \n",
       "3  1980-NM01      NM01     NM  H6NM01020  120221980   \n",
       "4  1980-MD02      MD02     MD  H6MD02039  106011980   \n",
       "\n",
       "                      A1_name  A1_party A1_IC  A1_spent  A1_raised  \\\n",
       "0               loeffler, tom       200     I  330566.0   479486.0   \n",
       "1  daub, harold john jr (hal)       200     O  329671.0   331903.0   \n",
       "2             hightower, jack       100     I  145292.0   129293.0   \n",
       "3            lujan, manuel jr       200     I  178309.0   185664.0   \n",
       "4    long, clarence dickinson       100     I  153619.0   158280.0   \n",
       "\n",
       "          ...               B1_id        B_ICPSR                  B1_name  \\\n",
       "0         ...           H6TX21095  H6TX210951980  sullivan, joseph pierre   \n",
       "1         ...           H0NE02052  H0NE020521980       fellman, richard m   \n",
       "2         ...           H0TX13012  H0TX130121980    slover, ronald edward   \n",
       "3         ...           H0NM01015      150551980    richardson, william b   \n",
       "4         ...           H0MD02057      150861980    bentley, helen delich   \n",
       "\n",
       "  B1_party B1_IC  B1_spent  B1_raised B1_pct  B1_outcome            top_cands  \n",
       "0      100     C   45382.0    45382.0   23.0           L  H8TX21067-H6TX21095  \n",
       "1      100     O  153539.0   164860.0   44.0           L  H8NE02022-H0NE02052  \n",
       "2      200     C   68268.0    74715.0   45.0           L  H6TX13027-H0TX13012  \n",
       "3      100     C  234737.0   237013.0   49.0           L  H6NM01020-H0NM01015  \n",
       "4      200     C  252599.0   253028.0   43.0           L  H6MD02039-H0MD02057  \n",
       "\n",
       "[5 rows x 23 columns]"
      ]
     },
     "execution_count": 152,
     "metadata": {},
     "output_type": "execute_result"
    }
   ],
   "source": [
    "first_match_df['top_cands'] = first_match_df.agg(lambda x: f\"{x['A1_id']}-{x['B1_id']}\", axis=1)\n",
    "first_match_df.head()"
   ]
  },
  {
   "cell_type": "code",
   "execution_count": 153,
   "metadata": {},
   "outputs": [
    {
     "data": {
      "text/html": [
       "<div>\n",
       "<style scoped>\n",
       "    .dataframe tbody tr th:only-of-type {\n",
       "        vertical-align: middle;\n",
       "    }\n",
       "\n",
       "    .dataframe tbody tr th {\n",
       "        vertical-align: top;\n",
       "    }\n",
       "\n",
       "    .dataframe thead th {\n",
       "        text-align: right;\n",
       "    }\n",
       "</style>\n",
       "<table border=\"1\" class=\"dataframe\">\n",
       "  <thead>\n",
       "    <tr style=\"text-align: right;\">\n",
       "      <th></th>\n",
       "      <th>race2_ID</th>\n",
       "      <th>district2</th>\n",
       "      <th>state2</th>\n",
       "      <th>A2_id</th>\n",
       "      <th>A_ICPSR</th>\n",
       "      <th>A2_name</th>\n",
       "      <th>A2_party</th>\n",
       "      <th>A2_IC</th>\n",
       "      <th>A2_spent</th>\n",
       "      <th>A2_raised</th>\n",
       "      <th>...</th>\n",
       "      <th>B2_id</th>\n",
       "      <th>B_ICPSR</th>\n",
       "      <th>B2_name</th>\n",
       "      <th>B2_party</th>\n",
       "      <th>B2_IC</th>\n",
       "      <th>B2_spent</th>\n",
       "      <th>B2_raised</th>\n",
       "      <th>B2_pct</th>\n",
       "      <th>B2_outcome</th>\n",
       "      <th>top_cands</th>\n",
       "    </tr>\n",
       "  </thead>\n",
       "  <tbody>\n",
       "    <tr>\n",
       "      <th>0</th>\n",
       "      <td>1982-NE02</td>\n",
       "      <td>NE02</td>\n",
       "      <td>NE</td>\n",
       "      <td>H8NE02022</td>\n",
       "      <td>148101982</td>\n",
       "      <td>daub, hal</td>\n",
       "      <td>200</td>\n",
       "      <td>I</td>\n",
       "      <td>224139.0</td>\n",
       "      <td>226583.0</td>\n",
       "      <td>...</td>\n",
       "      <td>H0NE02052</td>\n",
       "      <td>H0NE020521982</td>\n",
       "      <td>fellman, richard m</td>\n",
       "      <td>100</td>\n",
       "      <td>C</td>\n",
       "      <td>160320.0</td>\n",
       "      <td>160320.0</td>\n",
       "      <td>43.0</td>\n",
       "      <td>L</td>\n",
       "      <td>H8NE02022-H0NE02052</td>\n",
       "    </tr>\n",
       "    <tr>\n",
       "      <th>1</th>\n",
       "      <td>1982-TX13</td>\n",
       "      <td>TX13</td>\n",
       "      <td>TX</td>\n",
       "      <td>H6TX13027</td>\n",
       "      <td>142341982</td>\n",
       "      <td>hightower, jack</td>\n",
       "      <td>100</td>\n",
       "      <td>I</td>\n",
       "      <td>325997.0</td>\n",
       "      <td>335506.0</td>\n",
       "      <td>...</td>\n",
       "      <td>H0TX13012</td>\n",
       "      <td>H0TX130121982</td>\n",
       "      <td>slover, ronald edward</td>\n",
       "      <td>200</td>\n",
       "      <td>C</td>\n",
       "      <td>82625.0</td>\n",
       "      <td>95154.0</td>\n",
       "      <td>35.0</td>\n",
       "      <td>L</td>\n",
       "      <td>H6TX13027-H0TX13012</td>\n",
       "    </tr>\n",
       "    <tr>\n",
       "      <th>2</th>\n",
       "      <td>1982-MD02</td>\n",
       "      <td>MD02</td>\n",
       "      <td>MD</td>\n",
       "      <td>H6MD02039</td>\n",
       "      <td>106011982</td>\n",
       "      <td>long, clarence dickinson</td>\n",
       "      <td>100</td>\n",
       "      <td>I</td>\n",
       "      <td>162439.0</td>\n",
       "      <td>186959.0</td>\n",
       "      <td>...</td>\n",
       "      <td>H0MD02057</td>\n",
       "      <td>150861982</td>\n",
       "      <td>bentley, helen delich</td>\n",
       "      <td>200</td>\n",
       "      <td>C</td>\n",
       "      <td>209059.0</td>\n",
       "      <td>210254.0</td>\n",
       "      <td>47.0</td>\n",
       "      <td>L</td>\n",
       "      <td>H6MD02039-H0MD02057</td>\n",
       "    </tr>\n",
       "    <tr>\n",
       "      <th>3</th>\n",
       "      <td>1982-IL04</td>\n",
       "      <td>IL04</td>\n",
       "      <td>IL</td>\n",
       "      <td>H6IL17049</td>\n",
       "      <td>140411982</td>\n",
       "      <td>o'brien, george m</td>\n",
       "      <td>200</td>\n",
       "      <td>I</td>\n",
       "      <td>309393.0</td>\n",
       "      <td>293839.0</td>\n",
       "      <td>...</td>\n",
       "      <td>H0IL17018</td>\n",
       "      <td>H0IL170181982</td>\n",
       "      <td>murer, michael a</td>\n",
       "      <td>100</td>\n",
       "      <td>C</td>\n",
       "      <td>85546.0</td>\n",
       "      <td>83735.0</td>\n",
       "      <td>45.0</td>\n",
       "      <td>L</td>\n",
       "      <td>H6IL17049-H0IL17018</td>\n",
       "    </tr>\n",
       "    <tr>\n",
       "      <th>4</th>\n",
       "      <td>1982-CT04</td>\n",
       "      <td>CT04</td>\n",
       "      <td>CT</td>\n",
       "      <td>H6CT04028</td>\n",
       "      <td>130291982</td>\n",
       "      <td>mckinney, stewart b</td>\n",
       "      <td>200</td>\n",
       "      <td>I</td>\n",
       "      <td>294317.0</td>\n",
       "      <td>301747.0</td>\n",
       "      <td>...</td>\n",
       "      <td>H0CT04039</td>\n",
       "      <td>H0CT040391982</td>\n",
       "      <td>phillips, john aristotle</td>\n",
       "      <td>100</td>\n",
       "      <td>C</td>\n",
       "      <td>157953.0</td>\n",
       "      <td>156783.0</td>\n",
       "      <td>43.0</td>\n",
       "      <td>L</td>\n",
       "      <td>H6CT04028-H0CT04039</td>\n",
       "    </tr>\n",
       "  </tbody>\n",
       "</table>\n",
       "<p>5 rows × 23 columns</p>\n",
       "</div>"
      ],
      "text/plain": [
       "    race2_ID district2 state2      A2_id    A_ICPSR                   A2_name  \\\n",
       "0  1982-NE02      NE02     NE  H8NE02022  148101982                 daub, hal   \n",
       "1  1982-TX13      TX13     TX  H6TX13027  142341982           hightower, jack   \n",
       "2  1982-MD02      MD02     MD  H6MD02039  106011982  long, clarence dickinson   \n",
       "3  1982-IL04      IL04     IL  H6IL17049  140411982         o'brien, george m   \n",
       "4  1982-CT04      CT04     CT  H6CT04028  130291982       mckinney, stewart b   \n",
       "\n",
       "   A2_party A2_IC  A2_spent  A2_raised         ...               B2_id  \\\n",
       "0       200     I  224139.0   226583.0         ...           H0NE02052   \n",
       "1       100     I  325997.0   335506.0         ...           H0TX13012   \n",
       "2       100     I  162439.0   186959.0         ...           H0MD02057   \n",
       "3       200     I  309393.0   293839.0         ...           H0IL17018   \n",
       "4       200     I  294317.0   301747.0         ...           H0CT04039   \n",
       "\n",
       "         B_ICPSR                   B2_name B2_party B2_IC  B2_spent  \\\n",
       "0  H0NE020521982        fellman, richard m      100     C  160320.0   \n",
       "1  H0TX130121982     slover, ronald edward      200     C   82625.0   \n",
       "2      150861982     bentley, helen delich      200     C  209059.0   \n",
       "3  H0IL170181982          murer, michael a      100     C   85546.0   \n",
       "4  H0CT040391982  phillips, john aristotle      100     C  157953.0   \n",
       "\n",
       "   B2_raised B2_pct  B2_outcome            top_cands  \n",
       "0   160320.0   43.0           L  H8NE02022-H0NE02052  \n",
       "1    95154.0   35.0           L  H6TX13027-H0TX13012  \n",
       "2   210254.0   47.0           L  H6MD02039-H0MD02057  \n",
       "3    83735.0   45.0           L  H6IL17049-H0IL17018  \n",
       "4   156783.0   43.0           L  H6CT04028-H0CT04039  \n",
       "\n",
       "[5 rows x 23 columns]"
      ]
     },
     "execution_count": 153,
     "metadata": {},
     "output_type": "execute_result"
    }
   ],
   "source": [
    "second_match_df['top_cands'] = second_match_df.agg(lambda x: f\"{x['A2_id']}-{x['B2_id']}\", axis=1)\n",
    "second_match_df.head()"
   ]
  },
  {
   "cell_type": "code",
   "execution_count": 154,
   "metadata": {},
   "outputs": [],
   "source": [
    "full_df = first_match_df.merge(second_match_df, on='top_cands')"
   ]
  },
  {
   "cell_type": "code",
   "execution_count": 155,
   "metadata": {},
   "outputs": [
    {
     "name": "stdout",
     "output_type": "stream",
     "text": [
      "(485, 45)\n"
     ]
    },
    {
     "data": {
      "text/html": [
       "<div>\n",
       "<style scoped>\n",
       "    .dataframe tbody tr th:only-of-type {\n",
       "        vertical-align: middle;\n",
       "    }\n",
       "\n",
       "    .dataframe tbody tr th {\n",
       "        vertical-align: top;\n",
       "    }\n",
       "\n",
       "    .dataframe thead th {\n",
       "        text-align: right;\n",
       "    }\n",
       "</style>\n",
       "<table border=\"1\" class=\"dataframe\">\n",
       "  <thead>\n",
       "    <tr style=\"text-align: right;\">\n",
       "      <th></th>\n",
       "      <th>race1_ID</th>\n",
       "      <th>district1</th>\n",
       "      <th>state1</th>\n",
       "      <th>A1_id</th>\n",
       "      <th>A_ICPSR_x</th>\n",
       "      <th>A1_name</th>\n",
       "      <th>A1_party</th>\n",
       "      <th>A1_IC</th>\n",
       "      <th>A1_spent</th>\n",
       "      <th>A1_raised</th>\n",
       "      <th>...</th>\n",
       "      <th>DP2</th>\n",
       "      <th>B2_id</th>\n",
       "      <th>B_ICPSR_y</th>\n",
       "      <th>B2_name</th>\n",
       "      <th>B2_party</th>\n",
       "      <th>B2_IC</th>\n",
       "      <th>B2_spent</th>\n",
       "      <th>B2_raised</th>\n",
       "      <th>B2_pct</th>\n",
       "      <th>B2_outcome</th>\n",
       "    </tr>\n",
       "  </thead>\n",
       "  <tbody>\n",
       "    <tr>\n",
       "      <th>0</th>\n",
       "      <td>1980-TX21</td>\n",
       "      <td>TX21</td>\n",
       "      <td>TX</td>\n",
       "      <td>H8TX21067</td>\n",
       "      <td>146451980</td>\n",
       "      <td>loeffler, tom</td>\n",
       "      <td>200</td>\n",
       "      <td>I</td>\n",
       "      <td>330566.0</td>\n",
       "      <td>479486.0</td>\n",
       "      <td>...</td>\n",
       "      <td>1.251</td>\n",
       "      <td>H6TX21095</td>\n",
       "      <td>H6TX210951984</td>\n",
       "      <td>sullivan, joe</td>\n",
       "      <td>100</td>\n",
       "      <td>C</td>\n",
       "      <td>4245.0</td>\n",
       "      <td>4245.0</td>\n",
       "      <td>19.0</td>\n",
       "      <td>L</td>\n",
       "    </tr>\n",
       "    <tr>\n",
       "      <th>1</th>\n",
       "      <td>1980-NE02</td>\n",
       "      <td>NE02</td>\n",
       "      <td>NE</td>\n",
       "      <td>H8NE02022</td>\n",
       "      <td>148101980</td>\n",
       "      <td>daub, harold john jr (hal)</td>\n",
       "      <td>200</td>\n",
       "      <td>O</td>\n",
       "      <td>329671.0</td>\n",
       "      <td>331903.0</td>\n",
       "      <td>...</td>\n",
       "      <td>0.325</td>\n",
       "      <td>H0NE02052</td>\n",
       "      <td>H0NE020521982</td>\n",
       "      <td>fellman, richard m</td>\n",
       "      <td>100</td>\n",
       "      <td>C</td>\n",
       "      <td>160320.0</td>\n",
       "      <td>160320.0</td>\n",
       "      <td>43.0</td>\n",
       "      <td>L</td>\n",
       "    </tr>\n",
       "    <tr>\n",
       "      <th>2</th>\n",
       "      <td>1980-TX13</td>\n",
       "      <td>TX13</td>\n",
       "      <td>TX</td>\n",
       "      <td>H6TX13027</td>\n",
       "      <td>142341980</td>\n",
       "      <td>hightower, jack</td>\n",
       "      <td>100</td>\n",
       "      <td>I</td>\n",
       "      <td>145292.0</td>\n",
       "      <td>129293.0</td>\n",
       "      <td>...</td>\n",
       "      <td>0.737</td>\n",
       "      <td>H0TX13012</td>\n",
       "      <td>H0TX130121982</td>\n",
       "      <td>slover, ronald edward</td>\n",
       "      <td>200</td>\n",
       "      <td>C</td>\n",
       "      <td>82625.0</td>\n",
       "      <td>95154.0</td>\n",
       "      <td>35.0</td>\n",
       "      <td>L</td>\n",
       "    </tr>\n",
       "    <tr>\n",
       "      <th>3</th>\n",
       "      <td>1980-NM01</td>\n",
       "      <td>NM01</td>\n",
       "      <td>NM</td>\n",
       "      <td>H6NM01020</td>\n",
       "      <td>120221980</td>\n",
       "      <td>lujan, manuel jr</td>\n",
       "      <td>200</td>\n",
       "      <td>I</td>\n",
       "      <td>178309.0</td>\n",
       "      <td>185664.0</td>\n",
       "      <td>...</td>\n",
       "      <td>0.130</td>\n",
       "      <td>H0NM01015</td>\n",
       "      <td>150551984</td>\n",
       "      <td>richardson, william b</td>\n",
       "      <td>100</td>\n",
       "      <td>I</td>\n",
       "      <td>425934.0</td>\n",
       "      <td>439746.0</td>\n",
       "      <td>60.0</td>\n",
       "      <td>W</td>\n",
       "    </tr>\n",
       "    <tr>\n",
       "      <th>4</th>\n",
       "      <td>1980-MD02</td>\n",
       "      <td>MD02</td>\n",
       "      <td>MD</td>\n",
       "      <td>H6MD02039</td>\n",
       "      <td>106011980</td>\n",
       "      <td>long, clarence dickinson</td>\n",
       "      <td>100</td>\n",
       "      <td>I</td>\n",
       "      <td>153619.0</td>\n",
       "      <td>158280.0</td>\n",
       "      <td>...</td>\n",
       "      <td>0.806</td>\n",
       "      <td>H0MD02057</td>\n",
       "      <td>150861982</td>\n",
       "      <td>bentley, helen delich</td>\n",
       "      <td>200</td>\n",
       "      <td>C</td>\n",
       "      <td>209059.0</td>\n",
       "      <td>210254.0</td>\n",
       "      <td>47.0</td>\n",
       "      <td>L</td>\n",
       "    </tr>\n",
       "  </tbody>\n",
       "</table>\n",
       "<p>5 rows × 45 columns</p>\n",
       "</div>"
      ],
      "text/plain": [
       "    race1_ID district1 state1      A1_id  A_ICPSR_x  \\\n",
       "0  1980-TX21      TX21     TX  H8TX21067  146451980   \n",
       "1  1980-NE02      NE02     NE  H8NE02022  148101980   \n",
       "2  1980-TX13      TX13     TX  H6TX13027  142341980   \n",
       "3  1980-NM01      NM01     NM  H6NM01020  120221980   \n",
       "4  1980-MD02      MD02     MD  H6MD02039  106011980   \n",
       "\n",
       "                      A1_name  A1_party A1_IC  A1_spent  A1_raised  \\\n",
       "0               loeffler, tom       200     I  330566.0   479486.0   \n",
       "1  daub, harold john jr (hal)       200     O  329671.0   331903.0   \n",
       "2             hightower, jack       100     I  145292.0   129293.0   \n",
       "3            lujan, manuel jr       200     I  178309.0   185664.0   \n",
       "4    long, clarence dickinson       100     I  153619.0   158280.0   \n",
       "\n",
       "      ...        DP2      B2_id      B_ICPSR_y                B2_name  \\\n",
       "0     ...      1.251  H6TX21095  H6TX210951984          sullivan, joe   \n",
       "1     ...      0.325  H0NE02052  H0NE020521982     fellman, richard m   \n",
       "2     ...      0.737  H0TX13012  H0TX130121982  slover, ronald edward   \n",
       "3     ...      0.130  H0NM01015      150551984  richardson, william b   \n",
       "4     ...      0.806  H0MD02057      150861982  bentley, helen delich   \n",
       "\n",
       "  B2_party B2_IC  B2_spent B2_raised  B2_pct  B2_outcome  \n",
       "0      100     C    4245.0    4245.0    19.0           L  \n",
       "1      100     C  160320.0  160320.0    43.0           L  \n",
       "2      200     C   82625.0   95154.0    35.0           L  \n",
       "3      100     I  425934.0  439746.0    60.0           W  \n",
       "4      200     C  209059.0  210254.0    47.0           L  \n",
       "\n",
       "[5 rows x 45 columns]"
      ]
     },
     "execution_count": 155,
     "metadata": {},
     "output_type": "execute_result"
    }
   ],
   "source": [
    "print(full_df.shape)\n",
    "full_df.head()"
   ]
  },
  {
   "cell_type": "markdown",
   "metadata": {},
   "source": [
    "### delete below"
   ]
  },
  {
   "cell_type": "code",
   "execution_count": 156,
   "metadata": {},
   "outputs": [
    {
     "data": {
      "text/html": [
       "<div>\n",
       "<style scoped>\n",
       "    .dataframe tbody tr th:only-of-type {\n",
       "        vertical-align: middle;\n",
       "    }\n",
       "\n",
       "    .dataframe tbody tr th {\n",
       "        vertical-align: top;\n",
       "    }\n",
       "\n",
       "    .dataframe thead th {\n",
       "        text-align: right;\n",
       "    }\n",
       "</style>\n",
       "<table border=\"1\" class=\"dataframe\">\n",
       "  <thead>\n",
       "    <tr style=\"text-align: right;\">\n",
       "      <th></th>\n",
       "      <th>A1_outcome</th>\n",
       "      <th>A2_outcome</th>\n",
       "      <th>A2_pct</th>\n",
       "      <th>B1_outcome</th>\n",
       "      <th>B1_pct</th>\n",
       "      <th>B1_spent</th>\n",
       "      <th>B2_outcome</th>\n",
       "      <th>B2_pct</th>\n",
       "      <th>B2_spent</th>\n",
       "    </tr>\n",
       "  </thead>\n",
       "  <tbody>\n",
       "    <tr>\n",
       "      <th>3</th>\n",
       "      <td>W</td>\n",
       "      <td>W</td>\n",
       "      <td>64.0</td>\n",
       "      <td>L</td>\n",
       "      <td>49.0</td>\n",
       "      <td>234737.0</td>\n",
       "      <td>W</td>\n",
       "      <td>60.0</td>\n",
       "      <td>425934.0</td>\n",
       "    </tr>\n",
       "  </tbody>\n",
       "</table>\n",
       "</div>"
      ],
      "text/plain": [
       "  A1_outcome A2_outcome  A2_pct B1_outcome  B1_pct  B1_spent B2_outcome  \\\n",
       "3          W          W    64.0          L    49.0  234737.0          W   \n",
       "\n",
       "   B2_pct  B2_spent  \n",
       "3    60.0  425934.0  "
      ]
     },
     "execution_count": 156,
     "metadata": {},
     "output_type": "execute_result"
    }
   ],
   "source": [
    "full_df[full_df.B1_outcome != full_df.B2_outcome][['A1_outcome', 'A2_outcome', 'A2_pct', 'B1_outcome', 'B1_pct', 'B1_spent','B2_outcome', 'B2_pct',  'B2_spent']]"
   ]
  },
  {
   "cell_type": "code",
   "execution_count": 157,
   "metadata": {},
   "outputs": [],
   "source": [
    "full_order = full_df.columns.tolist()\n",
    "seven_col = ['top_cands', 'race1_ID', 'race2_ID', 'state1', 'state2', 'district1', 'district2']\n",
    "for each in seven_col:\n",
    "    full_order.remove(each)\n",
    "new_order = seven_col + full_order"
   ]
  },
  {
   "cell_type": "code",
   "execution_count": 158,
   "metadata": {},
   "outputs": [
    {
     "data": {
      "text/html": [
       "<div>\n",
       "<style scoped>\n",
       "    .dataframe tbody tr th:only-of-type {\n",
       "        vertical-align: middle;\n",
       "    }\n",
       "\n",
       "    .dataframe tbody tr th {\n",
       "        vertical-align: top;\n",
       "    }\n",
       "\n",
       "    .dataframe thead th {\n",
       "        text-align: right;\n",
       "    }\n",
       "</style>\n",
       "<table border=\"1\" class=\"dataframe\">\n",
       "  <thead>\n",
       "    <tr style=\"text-align: right;\">\n",
       "      <th></th>\n",
       "      <th>top_cands</th>\n",
       "      <th>race1_ID</th>\n",
       "      <th>race2_ID</th>\n",
       "      <th>state1</th>\n",
       "      <th>state2</th>\n",
       "      <th>district1</th>\n",
       "      <th>district2</th>\n",
       "      <th>A1_id</th>\n",
       "      <th>A_ICPSR_x</th>\n",
       "      <th>A1_name</th>\n",
       "      <th>...</th>\n",
       "      <th>DP2</th>\n",
       "      <th>B2_id</th>\n",
       "      <th>B_ICPSR_y</th>\n",
       "      <th>B2_name</th>\n",
       "      <th>B2_party</th>\n",
       "      <th>B2_IC</th>\n",
       "      <th>B2_spent</th>\n",
       "      <th>B2_raised</th>\n",
       "      <th>B2_pct</th>\n",
       "      <th>B2_outcome</th>\n",
       "    </tr>\n",
       "  </thead>\n",
       "  <tbody>\n",
       "    <tr>\n",
       "      <th>0</th>\n",
       "      <td>H8TX21067-H6TX21095</td>\n",
       "      <td>1980-TX21</td>\n",
       "      <td>1984-TX21</td>\n",
       "      <td>TX</td>\n",
       "      <td>TX</td>\n",
       "      <td>TX21</td>\n",
       "      <td>TX21</td>\n",
       "      <td>H8TX21067</td>\n",
       "      <td>146451980</td>\n",
       "      <td>loeffler, tom</td>\n",
       "      <td>...</td>\n",
       "      <td>1.251</td>\n",
       "      <td>H6TX21095</td>\n",
       "      <td>H6TX210951984</td>\n",
       "      <td>sullivan, joe</td>\n",
       "      <td>100</td>\n",
       "      <td>C</td>\n",
       "      <td>4245.0</td>\n",
       "      <td>4245.0</td>\n",
       "      <td>19.0</td>\n",
       "      <td>L</td>\n",
       "    </tr>\n",
       "    <tr>\n",
       "      <th>1</th>\n",
       "      <td>H8NE02022-H0NE02052</td>\n",
       "      <td>1980-NE02</td>\n",
       "      <td>1982-NE02</td>\n",
       "      <td>NE</td>\n",
       "      <td>NE</td>\n",
       "      <td>NE02</td>\n",
       "      <td>NE02</td>\n",
       "      <td>H8NE02022</td>\n",
       "      <td>148101980</td>\n",
       "      <td>daub, harold john jr (hal)</td>\n",
       "      <td>...</td>\n",
       "      <td>0.325</td>\n",
       "      <td>H0NE02052</td>\n",
       "      <td>H0NE020521982</td>\n",
       "      <td>fellman, richard m</td>\n",
       "      <td>100</td>\n",
       "      <td>C</td>\n",
       "      <td>160320.0</td>\n",
       "      <td>160320.0</td>\n",
       "      <td>43.0</td>\n",
       "      <td>L</td>\n",
       "    </tr>\n",
       "    <tr>\n",
       "      <th>2</th>\n",
       "      <td>H6TX13027-H0TX13012</td>\n",
       "      <td>1980-TX13</td>\n",
       "      <td>1982-TX13</td>\n",
       "      <td>TX</td>\n",
       "      <td>TX</td>\n",
       "      <td>TX13</td>\n",
       "      <td>TX13</td>\n",
       "      <td>H6TX13027</td>\n",
       "      <td>142341980</td>\n",
       "      <td>hightower, jack</td>\n",
       "      <td>...</td>\n",
       "      <td>0.737</td>\n",
       "      <td>H0TX13012</td>\n",
       "      <td>H0TX130121982</td>\n",
       "      <td>slover, ronald edward</td>\n",
       "      <td>200</td>\n",
       "      <td>C</td>\n",
       "      <td>82625.0</td>\n",
       "      <td>95154.0</td>\n",
       "      <td>35.0</td>\n",
       "      <td>L</td>\n",
       "    </tr>\n",
       "    <tr>\n",
       "      <th>3</th>\n",
       "      <td>H6NM01020-H0NM01015</td>\n",
       "      <td>1980-NM01</td>\n",
       "      <td>1984-NM01</td>\n",
       "      <td>NM</td>\n",
       "      <td>NM</td>\n",
       "      <td>NM01</td>\n",
       "      <td>NM01</td>\n",
       "      <td>H6NM01020</td>\n",
       "      <td>120221980</td>\n",
       "      <td>lujan, manuel jr</td>\n",
       "      <td>...</td>\n",
       "      <td>0.130</td>\n",
       "      <td>H0NM01015</td>\n",
       "      <td>150551984</td>\n",
       "      <td>richardson, william b</td>\n",
       "      <td>100</td>\n",
       "      <td>I</td>\n",
       "      <td>425934.0</td>\n",
       "      <td>439746.0</td>\n",
       "      <td>60.0</td>\n",
       "      <td>W</td>\n",
       "    </tr>\n",
       "    <tr>\n",
       "      <th>4</th>\n",
       "      <td>H6MD02039-H0MD02057</td>\n",
       "      <td>1980-MD02</td>\n",
       "      <td>1982-MD02</td>\n",
       "      <td>MD</td>\n",
       "      <td>MD</td>\n",
       "      <td>MD02</td>\n",
       "      <td>MD02</td>\n",
       "      <td>H6MD02039</td>\n",
       "      <td>106011980</td>\n",
       "      <td>long, clarence dickinson</td>\n",
       "      <td>...</td>\n",
       "      <td>0.806</td>\n",
       "      <td>H0MD02057</td>\n",
       "      <td>150861982</td>\n",
       "      <td>bentley, helen delich</td>\n",
       "      <td>200</td>\n",
       "      <td>C</td>\n",
       "      <td>209059.0</td>\n",
       "      <td>210254.0</td>\n",
       "      <td>47.0</td>\n",
       "      <td>L</td>\n",
       "    </tr>\n",
       "  </tbody>\n",
       "</table>\n",
       "<p>5 rows × 45 columns</p>\n",
       "</div>"
      ],
      "text/plain": [
       "             top_cands   race1_ID   race2_ID state1 state2 district1  \\\n",
       "0  H8TX21067-H6TX21095  1980-TX21  1984-TX21     TX     TX      TX21   \n",
       "1  H8NE02022-H0NE02052  1980-NE02  1982-NE02     NE     NE      NE02   \n",
       "2  H6TX13027-H0TX13012  1980-TX13  1982-TX13     TX     TX      TX13   \n",
       "3  H6NM01020-H0NM01015  1980-NM01  1984-NM01     NM     NM      NM01   \n",
       "4  H6MD02039-H0MD02057  1980-MD02  1982-MD02     MD     MD      MD02   \n",
       "\n",
       "  district2      A1_id  A_ICPSR_x                     A1_name    ...      \\\n",
       "0      TX21  H8TX21067  146451980               loeffler, tom    ...       \n",
       "1      NE02  H8NE02022  148101980  daub, harold john jr (hal)    ...       \n",
       "2      TX13  H6TX13027  142341980             hightower, jack    ...       \n",
       "3      NM01  H6NM01020  120221980            lujan, manuel jr    ...       \n",
       "4      MD02  H6MD02039  106011980    long, clarence dickinson    ...       \n",
       "\n",
       "     DP2      B2_id      B_ICPSR_y                B2_name  B2_party B2_IC  \\\n",
       "0  1.251  H6TX21095  H6TX210951984          sullivan, joe       100     C   \n",
       "1  0.325  H0NE02052  H0NE020521982     fellman, richard m       100     C   \n",
       "2  0.737  H0TX13012  H0TX130121982  slover, ronald edward       200     C   \n",
       "3  0.130  H0NM01015      150551984  richardson, william b       100     I   \n",
       "4  0.806  H0MD02057      150861982  bentley, helen delich       200     C   \n",
       "\n",
       "   B2_spent B2_raised B2_pct B2_outcome  \n",
       "0    4245.0    4245.0   19.0          L  \n",
       "1  160320.0  160320.0   43.0          L  \n",
       "2   82625.0   95154.0   35.0          L  \n",
       "3  425934.0  439746.0   60.0          W  \n",
       "4  209059.0  210254.0   47.0          L  \n",
       "\n",
       "[5 rows x 45 columns]"
      ]
     },
     "execution_count": 158,
     "metadata": {},
     "output_type": "execute_result"
    }
   ],
   "source": [
    "full_df = full_df.reindex(columns=new_order)\n",
    "full_df.head()"
   ]
  },
  {
   "cell_type": "markdown",
   "metadata": {},
   "source": [
    "### Check for any rematches that don't occur in the same state\n",
    "\n",
    "Check whether the first race and the second race have the same value in the 'STATE' column. "
   ]
  },
  {
   "cell_type": "code",
   "execution_count": 159,
   "metadata": {
    "scrolled": true
   },
   "outputs": [
    {
     "data": {
      "text/plain": [
       "485"
      ]
     },
     "execution_count": 159,
     "metadata": {},
     "output_type": "execute_result"
    }
   ],
   "source": [
    "full_df[full_df.state1 == full_df.state2].top_cands.count()"
   ]
  },
  {
   "cell_type": "markdown",
   "metadata": {},
   "source": [
    "### Check for any rematches that don't occur in the same district\n",
    "\n",
    "Check whether the first race and the second race have the same value in the 'DISTRICT' column. "
   ]
  },
  {
   "cell_type": "code",
   "execution_count": 160,
   "metadata": {},
   "outputs": [
    {
     "data": {
      "text/plain": [
       "470"
      ]
     },
     "execution_count": 160,
     "metadata": {},
     "output_type": "execute_result"
    }
   ],
   "source": [
    "full_df[full_df.district1 == full_df.district2].top_cands.count()"
   ]
  },
  {
   "cell_type": "code",
   "execution_count": 161,
   "metadata": {},
   "outputs": [
    {
     "data": {
      "text/plain": [
       "Index(['top_cands', 'race1_ID', 'race2_ID', 'state1', 'state2', 'district1',\n",
       "       'district2', 'A1_id', 'A_ICPSR_x', 'A1_name', 'A1_party', 'A1_IC',\n",
       "       'A1_spent', 'A1_raised', 'A1_pct', 'A1_outcome', 'DP1', 'B1_id',\n",
       "       'B_ICPSR_x', 'B1_name', 'B1_party', 'B1_IC', 'B1_spent', 'B1_raised',\n",
       "       'B1_pct', 'B1_outcome', 'A2_id', 'A_ICPSR_y', 'A2_name', 'A2_party',\n",
       "       'A2_IC', 'A2_spent', 'A2_raised', 'A2_pct', 'A2_outcome', 'DP2',\n",
       "       'B2_id', 'B_ICPSR_y', 'B2_name', 'B2_party', 'B2_IC', 'B2_spent',\n",
       "       'B2_raised', 'B2_pct', 'B2_outcome'],\n",
       "      dtype='object')"
      ]
     },
     "execution_count": 161,
     "metadata": {},
     "output_type": "execute_result"
    }
   ],
   "source": [
    "full_df.columns"
   ]
  },
  {
   "cell_type": "code",
   "execution_count": 162,
   "metadata": {},
   "outputs": [],
   "source": [
    "full_df.drop(['state2', 'B_ICPSR_y', 'A_ICPSR_y'], axis=1, inplace=True)\n",
    "col_rename = {'state1':'state', 'B_ICPSR_x':'B_ICPSR', 'A_ICPSR_x':'A_ICPSR'}\n",
    "full_df.rename(col_rename, axis='columns', inplace=True)"
   ]
  },
  {
   "cell_type": "code",
   "execution_count": 163,
   "metadata": {},
   "outputs": [
    {
     "data": {
      "text/html": [
       "<div>\n",
       "<style scoped>\n",
       "    .dataframe tbody tr th:only-of-type {\n",
       "        vertical-align: middle;\n",
       "    }\n",
       "\n",
       "    .dataframe tbody tr th {\n",
       "        vertical-align: top;\n",
       "    }\n",
       "\n",
       "    .dataframe thead th {\n",
       "        text-align: right;\n",
       "    }\n",
       "</style>\n",
       "<table border=\"1\" class=\"dataframe\">\n",
       "  <thead>\n",
       "    <tr style=\"text-align: right;\">\n",
       "      <th></th>\n",
       "      <th>top_cands</th>\n",
       "      <th>race1_ID</th>\n",
       "      <th>race2_ID</th>\n",
       "      <th>state</th>\n",
       "      <th>district1</th>\n",
       "      <th>district2</th>\n",
       "      <th>A1_id</th>\n",
       "      <th>A_ICPSR</th>\n",
       "      <th>A1_name</th>\n",
       "      <th>A1_party</th>\n",
       "      <th>...</th>\n",
       "      <th>A2_outcome</th>\n",
       "      <th>DP2</th>\n",
       "      <th>B2_id</th>\n",
       "      <th>B2_name</th>\n",
       "      <th>B2_party</th>\n",
       "      <th>B2_IC</th>\n",
       "      <th>B2_spent</th>\n",
       "      <th>B2_raised</th>\n",
       "      <th>B2_pct</th>\n",
       "      <th>B2_outcome</th>\n",
       "    </tr>\n",
       "  </thead>\n",
       "  <tbody>\n",
       "    <tr>\n",
       "      <th>0</th>\n",
       "      <td>H8TX21067-H6TX21095</td>\n",
       "      <td>1980-TX21</td>\n",
       "      <td>1984-TX21</td>\n",
       "      <td>TX</td>\n",
       "      <td>TX21</td>\n",
       "      <td>TX21</td>\n",
       "      <td>H8TX21067</td>\n",
       "      <td>146451980</td>\n",
       "      <td>loeffler, tom</td>\n",
       "      <td>200</td>\n",
       "      <td>...</td>\n",
       "      <td>W</td>\n",
       "      <td>1.251</td>\n",
       "      <td>H6TX21095</td>\n",
       "      <td>sullivan, joe</td>\n",
       "      <td>100</td>\n",
       "      <td>C</td>\n",
       "      <td>4245.0</td>\n",
       "      <td>4245.0</td>\n",
       "      <td>19.0</td>\n",
       "      <td>L</td>\n",
       "    </tr>\n",
       "    <tr>\n",
       "      <th>1</th>\n",
       "      <td>H8NE02022-H0NE02052</td>\n",
       "      <td>1980-NE02</td>\n",
       "      <td>1982-NE02</td>\n",
       "      <td>NE</td>\n",
       "      <td>NE02</td>\n",
       "      <td>NE02</td>\n",
       "      <td>H8NE02022</td>\n",
       "      <td>148101980</td>\n",
       "      <td>daub, harold john jr (hal)</td>\n",
       "      <td>200</td>\n",
       "      <td>...</td>\n",
       "      <td>W</td>\n",
       "      <td>0.325</td>\n",
       "      <td>H0NE02052</td>\n",
       "      <td>fellman, richard m</td>\n",
       "      <td>100</td>\n",
       "      <td>C</td>\n",
       "      <td>160320.0</td>\n",
       "      <td>160320.0</td>\n",
       "      <td>43.0</td>\n",
       "      <td>L</td>\n",
       "    </tr>\n",
       "    <tr>\n",
       "      <th>2</th>\n",
       "      <td>H6TX13027-H0TX13012</td>\n",
       "      <td>1980-TX13</td>\n",
       "      <td>1982-TX13</td>\n",
       "      <td>TX</td>\n",
       "      <td>TX13</td>\n",
       "      <td>TX13</td>\n",
       "      <td>H6TX13027</td>\n",
       "      <td>142341980</td>\n",
       "      <td>hightower, jack</td>\n",
       "      <td>100</td>\n",
       "      <td>...</td>\n",
       "      <td>W</td>\n",
       "      <td>0.737</td>\n",
       "      <td>H0TX13012</td>\n",
       "      <td>slover, ronald edward</td>\n",
       "      <td>200</td>\n",
       "      <td>C</td>\n",
       "      <td>82625.0</td>\n",
       "      <td>95154.0</td>\n",
       "      <td>35.0</td>\n",
       "      <td>L</td>\n",
       "    </tr>\n",
       "    <tr>\n",
       "      <th>3</th>\n",
       "      <td>H6NM01020-H0NM01015</td>\n",
       "      <td>1980-NM01</td>\n",
       "      <td>1984-NM01</td>\n",
       "      <td>NM</td>\n",
       "      <td>NM01</td>\n",
       "      <td>NM01</td>\n",
       "      <td>H6NM01020</td>\n",
       "      <td>120221980</td>\n",
       "      <td>lujan, manuel jr</td>\n",
       "      <td>200</td>\n",
       "      <td>...</td>\n",
       "      <td>W</td>\n",
       "      <td>0.130</td>\n",
       "      <td>H0NM01015</td>\n",
       "      <td>richardson, william b</td>\n",
       "      <td>100</td>\n",
       "      <td>I</td>\n",
       "      <td>425934.0</td>\n",
       "      <td>439746.0</td>\n",
       "      <td>60.0</td>\n",
       "      <td>W</td>\n",
       "    </tr>\n",
       "    <tr>\n",
       "      <th>4</th>\n",
       "      <td>H6MD02039-H0MD02057</td>\n",
       "      <td>1980-MD02</td>\n",
       "      <td>1982-MD02</td>\n",
       "      <td>MD</td>\n",
       "      <td>MD02</td>\n",
       "      <td>MD02</td>\n",
       "      <td>H6MD02039</td>\n",
       "      <td>106011980</td>\n",
       "      <td>long, clarence dickinson</td>\n",
       "      <td>100</td>\n",
       "      <td>...</td>\n",
       "      <td>W</td>\n",
       "      <td>0.806</td>\n",
       "      <td>H0MD02057</td>\n",
       "      <td>bentley, helen delich</td>\n",
       "      <td>200</td>\n",
       "      <td>C</td>\n",
       "      <td>209059.0</td>\n",
       "      <td>210254.0</td>\n",
       "      <td>47.0</td>\n",
       "      <td>L</td>\n",
       "    </tr>\n",
       "  </tbody>\n",
       "</table>\n",
       "<p>5 rows × 42 columns</p>\n",
       "</div>"
      ],
      "text/plain": [
       "             top_cands   race1_ID   race2_ID state district1 district2  \\\n",
       "0  H8TX21067-H6TX21095  1980-TX21  1984-TX21    TX      TX21      TX21   \n",
       "1  H8NE02022-H0NE02052  1980-NE02  1982-NE02    NE      NE02      NE02   \n",
       "2  H6TX13027-H0TX13012  1980-TX13  1982-TX13    TX      TX13      TX13   \n",
       "3  H6NM01020-H0NM01015  1980-NM01  1984-NM01    NM      NM01      NM01   \n",
       "4  H6MD02039-H0MD02057  1980-MD02  1982-MD02    MD      MD02      MD02   \n",
       "\n",
       "       A1_id    A_ICPSR                     A1_name  A1_party     ...      \\\n",
       "0  H8TX21067  146451980               loeffler, tom       200     ...       \n",
       "1  H8NE02022  148101980  daub, harold john jr (hal)       200     ...       \n",
       "2  H6TX13027  142341980             hightower, jack       100     ...       \n",
       "3  H6NM01020  120221980            lujan, manuel jr       200     ...       \n",
       "4  H6MD02039  106011980    long, clarence dickinson       100     ...       \n",
       "\n",
       "  A2_outcome    DP2      B2_id                B2_name B2_party  B2_IC  \\\n",
       "0          W  1.251  H6TX21095          sullivan, joe      100      C   \n",
       "1          W  0.325  H0NE02052     fellman, richard m      100      C   \n",
       "2          W  0.737  H0TX13012  slover, ronald edward      200      C   \n",
       "3          W  0.130  H0NM01015  richardson, william b      100      I   \n",
       "4          W  0.806  H0MD02057  bentley, helen delich      200      C   \n",
       "\n",
       "   B2_spent B2_raised B2_pct  B2_outcome  \n",
       "0    4245.0    4245.0   19.0           L  \n",
       "1  160320.0  160320.0   43.0           L  \n",
       "2   82625.0   95154.0   35.0           L  \n",
       "3  425934.0  439746.0   60.0           W  \n",
       "4  209059.0  210254.0   47.0           L  \n",
       "\n",
       "[5 rows x 42 columns]"
      ]
     },
     "execution_count": 163,
     "metadata": {},
     "output_type": "execute_result"
    }
   ],
   "source": [
    "full_df.head()"
   ]
  },
  {
   "cell_type": "code",
   "execution_count": 164,
   "metadata": {},
   "outputs": [
    {
     "name": "stdout",
     "output_type": "stream",
     "text": [
      "485\n",
      "482\n"
     ]
    }
   ],
   "source": [
    "print(full_df[full_df.A2_party == full_df.A1_party].top_cands.count())\n",
    "print(full_df[full_df.B2_party == full_df.B1_party].top_cands.count())"
   ]
  },
  {
   "cell_type": "code",
   "execution_count": 165,
   "metadata": {},
   "outputs": [],
   "source": [
    "full_df['delta_A%'] = full_df.A2_pct - full_df.A1_pct\n",
    "full_df['delta_B%'] = full_df.B2_pct - full_df.B1_pct\n",
    "full_df['delta_A$'] = full_df.A2_spent - full_df.A1_spent\n",
    "full_df['delta_B$'] = full_df.B2_spent - full_df.B1_spent\n",
    "full_df['delta_A$%'] = (full_df.A2_spent - full_df.A1_spent)/full_df.A1_spent\n",
    "full_df['delta_B$%'] = (full_df.B2_spent - full_df.B1_spent)/full_df.B1_spent\n",
    "# full_df['A%T1'] = full_df.A1_spent/(full_df.A1_spent + full_df.B1_spent)\n",
    "# full_df['B%T1'] = full_df.B1_spent/(full_df.A1_spent + full_df.B1_spent)\n",
    "# full_df['A%T2'] = full_df.A2_spent/(full_df.A2_spent + full_df.B2_spent)\n",
    "# full_df['B%T2'] = full_df.B2_spent/(full_df.A2_spent + full_df.B2_spent)\n",
    "# full_df['delta_A$%T'] = full_df['A%T2'] - full_df['A%T1']\n",
    "# full_df['delta_B$%T'] = full_df['B%T2'] - full_df['B%T1']"
   ]
  },
  {
   "cell_type": "code",
   "execution_count": 166,
   "metadata": {},
   "outputs": [
    {
     "data": {
      "text/html": [
       "<div>\n",
       "<style scoped>\n",
       "    .dataframe tbody tr th:only-of-type {\n",
       "        vertical-align: middle;\n",
       "    }\n",
       "\n",
       "    .dataframe tbody tr th {\n",
       "        vertical-align: top;\n",
       "    }\n",
       "\n",
       "    .dataframe thead th {\n",
       "        text-align: right;\n",
       "    }\n",
       "</style>\n",
       "<table border=\"1\" class=\"dataframe\">\n",
       "  <thead>\n",
       "    <tr style=\"text-align: right;\">\n",
       "      <th></th>\n",
       "      <th>delta_A%</th>\n",
       "      <th>delta_A$</th>\n",
       "      <th>delta_A$%</th>\n",
       "      <th>delta_B%</th>\n",
       "      <th>delta_B$</th>\n",
       "      <th>delta_B$%</th>\n",
       "    </tr>\n",
       "  </thead>\n",
       "  <tbody>\n",
       "    <tr>\n",
       "      <th>0</th>\n",
       "      <td>3.0</td>\n",
       "      <td>118954.0</td>\n",
       "      <td>0.359849</td>\n",
       "      <td>-4.0</td>\n",
       "      <td>-41137.0</td>\n",
       "      <td>-0.906461</td>\n",
       "    </tr>\n",
       "    <tr>\n",
       "      <th>1</th>\n",
       "      <td>4.0</td>\n",
       "      <td>-105532.0</td>\n",
       "      <td>-0.320113</td>\n",
       "      <td>-1.0</td>\n",
       "      <td>6781.0</td>\n",
       "      <td>0.044165</td>\n",
       "    </tr>\n",
       "    <tr>\n",
       "      <th>2</th>\n",
       "      <td>9.0</td>\n",
       "      <td>180705.0</td>\n",
       "      <td>1.243737</td>\n",
       "      <td>-10.0</td>\n",
       "      <td>14357.0</td>\n",
       "      <td>0.210304</td>\n",
       "    </tr>\n",
       "    <tr>\n",
       "      <th>3</th>\n",
       "      <td>13.0</td>\n",
       "      <td>319716.0</td>\n",
       "      <td>1.793045</td>\n",
       "      <td>11.0</td>\n",
       "      <td>191197.0</td>\n",
       "      <td>0.814516</td>\n",
       "    </tr>\n",
       "    <tr>\n",
       "      <th>4</th>\n",
       "      <td>-4.0</td>\n",
       "      <td>8820.0</td>\n",
       "      <td>0.057415</td>\n",
       "      <td>4.0</td>\n",
       "      <td>-43540.0</td>\n",
       "      <td>-0.172368</td>\n",
       "    </tr>\n",
       "  </tbody>\n",
       "</table>\n",
       "</div>"
      ],
      "text/plain": [
       "   delta_A%  delta_A$  delta_A$%  delta_B%  delta_B$  delta_B$%\n",
       "0       3.0  118954.0   0.359849      -4.0  -41137.0  -0.906461\n",
       "1       4.0 -105532.0  -0.320113      -1.0    6781.0   0.044165\n",
       "2       9.0  180705.0   1.243737     -10.0   14357.0   0.210304\n",
       "3      13.0  319716.0   1.793045      11.0  191197.0   0.814516\n",
       "4      -4.0    8820.0   0.057415       4.0  -43540.0  -0.172368"
      ]
     },
     "execution_count": 166,
     "metadata": {},
     "output_type": "execute_result"
    }
   ],
   "source": [
    "full_df[['delta_A%', 'delta_A$','delta_A$%', 'delta_B%', 'delta_B$', 'delta_B$%']].head()\n",
    "#'A%T1', 'A%T2', 'B%T1', 'B%T2', 'delta_A$%T', 'delta_B$%T'"
   ]
  },
  {
   "cell_type": "code",
   "execution_count": 167,
   "metadata": {},
   "outputs": [],
   "source": [
    "all_df = pd.DataFrame()"
   ]
  },
  {
   "cell_type": "code",
   "execution_count": 168,
   "metadata": {},
   "outputs": [],
   "source": [
    "all_df['delta%'] = list(full_df['delta_A%']) + list(full_df['delta_B%'])\n",
    "all_df['delta$'] = list(full_df['delta_A$']) + list(full_df['delta_B$'])\n",
    "all_df['delta$%'] = list(full_df['delta_A$%']) + list(full_df['delta_B$%'])\n",
    "all_df['party'] = list(full_df['A1_party']) + list(full_df['B1_party'])\n",
    "all_df['IC_1'] = list(full_df['A1_IC']) + list(full_df['B1_IC'])\n",
    "all_df['IC_2'] = list(full_df['A2_IC']) + list(full_df['B2_IC'])\n",
    "all_df['outcome_1'] = list(full_df['A1_outcome']) + list(full_df['B1_outcome'])\n",
    "all_df['outcome_2'] = list(full_df['A2_outcome']) + list(full_df['B2_outcome'])\n",
    "all_df['state'] = list(full_df['state']) + list(full_df['state'])\n",
    "all_df = all_df.replace([np.inf, -np.inf], np.nan).dropna()"
   ]
  },
  {
   "cell_type": "code",
   "execution_count": 169,
   "metadata": {},
   "outputs": [
    {
     "data": {
      "text/html": [
       "<div>\n",
       "<style scoped>\n",
       "    .dataframe tbody tr th:only-of-type {\n",
       "        vertical-align: middle;\n",
       "    }\n",
       "\n",
       "    .dataframe tbody tr th {\n",
       "        vertical-align: top;\n",
       "    }\n",
       "\n",
       "    .dataframe thead th {\n",
       "        text-align: right;\n",
       "    }\n",
       "</style>\n",
       "<table border=\"1\" class=\"dataframe\">\n",
       "  <thead>\n",
       "    <tr style=\"text-align: right;\">\n",
       "      <th></th>\n",
       "      <th>delta%</th>\n",
       "      <th>delta$</th>\n",
       "      <th>delta$%</th>\n",
       "      <th>party</th>\n",
       "      <th>IC_1</th>\n",
       "      <th>IC_2</th>\n",
       "      <th>outcome_1</th>\n",
       "      <th>outcome_2</th>\n",
       "      <th>state</th>\n",
       "    </tr>\n",
       "  </thead>\n",
       "  <tbody>\n",
       "    <tr>\n",
       "      <th>0</th>\n",
       "      <td>3.0</td>\n",
       "      <td>118954.0</td>\n",
       "      <td>0.359849</td>\n",
       "      <td>200</td>\n",
       "      <td>I</td>\n",
       "      <td>I</td>\n",
       "      <td>W</td>\n",
       "      <td>W</td>\n",
       "      <td>TX</td>\n",
       "    </tr>\n",
       "    <tr>\n",
       "      <th>1</th>\n",
       "      <td>4.0</td>\n",
       "      <td>-105532.0</td>\n",
       "      <td>-0.320113</td>\n",
       "      <td>200</td>\n",
       "      <td>O</td>\n",
       "      <td>I</td>\n",
       "      <td>W</td>\n",
       "      <td>W</td>\n",
       "      <td>NE</td>\n",
       "    </tr>\n",
       "    <tr>\n",
       "      <th>2</th>\n",
       "      <td>9.0</td>\n",
       "      <td>180705.0</td>\n",
       "      <td>1.243737</td>\n",
       "      <td>100</td>\n",
       "      <td>I</td>\n",
       "      <td>I</td>\n",
       "      <td>W</td>\n",
       "      <td>W</td>\n",
       "      <td>TX</td>\n",
       "    </tr>\n",
       "    <tr>\n",
       "      <th>3</th>\n",
       "      <td>13.0</td>\n",
       "      <td>319716.0</td>\n",
       "      <td>1.793045</td>\n",
       "      <td>200</td>\n",
       "      <td>I</td>\n",
       "      <td>I</td>\n",
       "      <td>W</td>\n",
       "      <td>W</td>\n",
       "      <td>NM</td>\n",
       "    </tr>\n",
       "    <tr>\n",
       "      <th>4</th>\n",
       "      <td>-4.0</td>\n",
       "      <td>8820.0</td>\n",
       "      <td>0.057415</td>\n",
       "      <td>100</td>\n",
       "      <td>I</td>\n",
       "      <td>I</td>\n",
       "      <td>W</td>\n",
       "      <td>W</td>\n",
       "      <td>MD</td>\n",
       "    </tr>\n",
       "  </tbody>\n",
       "</table>\n",
       "</div>"
      ],
      "text/plain": [
       "   delta%    delta$   delta$%  party IC_1 IC_2 outcome_1 outcome_2 state\n",
       "0     3.0  118954.0  0.359849    200    I    I         W         W    TX\n",
       "1     4.0 -105532.0 -0.320113    200    O    I         W         W    NE\n",
       "2     9.0  180705.0  1.243737    100    I    I         W         W    TX\n",
       "3    13.0  319716.0  1.793045    200    I    I         W         W    NM\n",
       "4    -4.0    8820.0  0.057415    100    I    I         W         W    MD"
      ]
     },
     "execution_count": 169,
     "metadata": {},
     "output_type": "execute_result"
    }
   ],
   "source": [
    "all_df.head()"
   ]
  },
  {
   "cell_type": "code",
   "execution_count": 170,
   "metadata": {},
   "outputs": [],
   "source": [
    "def plot_line(coef, intercept, x):\n",
    "    return (coef*x + intercept)"
   ]
  },
  {
   "cell_type": "code",
   "execution_count": 171,
   "metadata": {},
   "outputs": [],
   "source": [
    "x = all_df['delta%'].values.reshape(-1, 1)\n",
    "y = all_df['delta$'].values.reshape(-1, 1)"
   ]
  },
  {
   "cell_type": "code",
   "execution_count": 172,
   "metadata": {},
   "outputs": [],
   "source": [
    "from sklearn.linear_model import LinearRegression"
   ]
  },
  {
   "cell_type": "code",
   "execution_count": 173,
   "metadata": {},
   "outputs": [],
   "source": [
    "lr = LinearRegression()\n",
    "reg = lr.fit(y, x)"
   ]
  },
  {
   "cell_type": "code",
   "execution_count": 174,
   "metadata": {},
   "outputs": [
    {
     "name": "stdout",
     "output_type": "stream",
     "text": [
      "R^2 Score:  0.0006\n",
      "Slope:  2.96e-07\n",
      "Intercept:  -0.0482\n"
     ]
    }
   ],
   "source": [
    "coef = reg.coef_[0][0]\n",
    "intercept = reg.intercept_[0]\n",
    "\n",
    "print('R^2 Score: ', round(reg.score(y, x), 4))\n",
    "print('Slope: ', round(coef,10))\n",
    "print('Intercept: ', round(intercept, 4))"
   ]
  },
  {
   "cell_type": "code",
   "execution_count": 175,
   "metadata": {},
   "outputs": [
    {
     "data": {
      "text/plain": [
       "(-80, 80)"
      ]
     },
     "execution_count": 175,
     "metadata": {},
     "output_type": "execute_result"
    },
    {
     "data": {
      "image/png": "[encoded data removed]",
      "text/plain": [
       "<Figure size 864x864 with 1 Axes>"
      ]
     },
     "metadata": {},
     "output_type": "display_data"
    }
   ],
   "source": [
    "fig, ax = plt.subplots(1, figsize=(12,12))\n",
    "z = np.linspace(-6000000, 6000000, num=1200)\n",
    "ax.plot(z, plot_line(coef, intercept, z), '-')\n",
    "ax.scatter(y, x, alpha=1, s=5)\n",
    "ax.set_xlim(-4000000, 4000000)\n",
    "ax.set_ylim(-80, 80)"
   ]
  },
  {
   "cell_type": "markdown",
   "metadata": {},
   "source": [
    "### W vs L ?"
   ]
  },
  {
   "cell_type": "code",
   "execution_count": 176,
   "metadata": {},
   "outputs": [],
   "source": [
    "cc_dict = {'W':'purple', 'L':'green'}\n",
    "all_df['cc'] = all_df.outcome_1.apply(lambda x: cc_dict[x])"
   ]
  },
  {
   "cell_type": "code",
   "execution_count": 224,
   "metadata": {},
   "outputs": [
    {
     "data": {
      "text/plain": [
       "(-80, 80)"
      ]
     },
     "execution_count": 224,
     "metadata": {},
     "output_type": "execute_result"
    },
    {
     "data": {
      "image/png": "[encoded data removed]",
      "text/plain": [
       "<Figure size 864x864 with 1 Axes>"
      ]
     },
     "metadata": {},
     "output_type": "display_data"
    }
   ],
   "source": [
    "fig, ax = plt.subplots(1, figsize=(12,12))\n",
    "z = np.linspace(-6000000, 6000000, num=1200)\n",
    "ax.plot(z, plot_line(coef, intercept, z), '-')\n",
    "ax.scatter(y, x, alpha=1, s=5, c = all_df.cc)\n",
    "ax.set_xlim(-4000000, 4000000)\n",
    "ax.set_ylim(-80, 80)"
   ]
  },
  {
   "cell_type": "markdown",
   "metadata": {},
   "source": [
    "### Party"
   ]
  },
  {
   "cell_type": "code",
   "execution_count": 178,
   "metadata": {},
   "outputs": [],
   "source": [
    "GOP_vote = all_df[all_df.party == 200]['delta%'].values.reshape(-1,1)\n",
    "GOP_spend = all_df[all_df.party == 200]['delta$'].values.reshape(-1,1)\n",
    "Dem_vote = all_df[all_df.party == 100]['delta%'].values.reshape(-1,1)\n",
    "Dem_spend = all_df[all_df.party == 100]['delta$'].values.reshape(-1,1)\n",
    "# Ind_vote = all_df[all_df.party == 328]['delta%'].values.reshape(-1,1)\n",
    "# Ind_spend = all_df[all_df.party == 328]['delta$'].values.reshape(-1,1)"
   ]
  },
  {
   "cell_type": "code",
   "execution_count": 179,
   "metadata": {},
   "outputs": [],
   "source": [
    "lr = LinearRegression()\n",
    "reg_GOP = lr.fit(GOP_spend, GOP_vote)"
   ]
  },
  {
   "cell_type": "code",
   "execution_count": 180,
   "metadata": {},
   "outputs": [
    {
     "name": "stdout",
     "output_type": "stream",
     "text": [
      "R^2 Score:  0.0009966379615944376\n",
      "Slope:  3.534888314689576e-07\n",
      "Intercept:  -0.2795377611292716\n"
     ]
    }
   ],
   "source": [
    "coef_GOP = reg_GOP.coef_[0][0]\n",
    "intercept_GOP = reg_GOP.intercept_[0]\n",
    "\n",
    "print('R^2 Score: ', reg_GOP.score(GOP_spend, GOP_vote))\n",
    "print('Slope: ', coef_GOP)\n",
    "print('Intercept: ', intercept_GOP)"
   ]
  },
  {
   "cell_type": "code",
   "execution_count": 181,
   "metadata": {},
   "outputs": [
    {
     "name": "stdout",
     "output_type": "stream",
     "text": [
      "R^2 Score:  0.00033769112280701563\n",
      "Slope:  2.6011905768144774e-07\n",
      "Intercept:  0.12662826014315728\n"
     ]
    }
   ],
   "source": [
    "lr = LinearRegression()\n",
    "reg_Dem = lr.fit(Dem_spend, Dem_vote)\n",
    "\n",
    "coef_Dem = reg_Dem.coef_[0][0]\n",
    "intercept_Dem = reg_Dem.intercept_[0]\n",
    "\n",
    "print('R^2 Score: ', reg_Dem.score(Dem_spend, Dem_vote))\n",
    "print('Slope: ', coef_Dem)\n",
    "print('Intercept: ', intercept_Dem)"
   ]
  },
  {
   "cell_type": "code",
   "execution_count": 183,
   "metadata": {},
   "outputs": [
    {
     "data": {
      "text/plain": [
       "(-40, 40)"
      ]
     },
     "execution_count": 183,
     "metadata": {},
     "output_type": "execute_result"
    },
    {
     "data": {
      "image/png": "[encoded data removed]",
      "text/plain": [
       "<Figure size 720x720 with 1 Axes>"
      ]
     },
     "metadata": {},
     "output_type": "display_data"
    }
   ],
   "source": [
    "fig, ax = plt.subplots(1, figsize=(10,10))\n",
    "z = np.linspace(-6000000, 6000000, num=1200)\n",
    "ax.plot(z, plot_line(coef_GOP, intercept_GOP, z), '-')\n",
    "ax.scatter(GOP_spend, GOP_vote, alpha=1, s=2)\n",
    "ax.set_xlim(-4000000, 4000000)\n",
    "ax.set_ylim(-80, 80)\n",
    "\n",
    "ax.plot(z, plot_line(coef_Dem, intercept_Dem, z), '-', color='blue')\n",
    "ax.scatter(Dem_spend, Dem_vote, alpha=1, s=2)\n",
    "ax.set_xlim(-4000000, 4000000)\n",
    "ax.set_ylim(-40, 40)"
   ]
  },
  {
   "cell_type": "markdown",
   "metadata": {},
   "source": [
    "### Group A"
   ]
  },
  {
   "cell_type": "code",
   "execution_count": 184,
   "metadata": {},
   "outputs": [],
   "source": [
    "plot_A = full_df[['delta_A%', 'delta_A$', 'delta_A$%']]\n",
    "plot_A = plot_A.replace([np.inf, -np.inf], np.nan).dropna()\n",
    "\n",
    "Ax = plot_A['delta_A%'].values.reshape(-1, 1)\n",
    "Ay = plot_A['delta_A$'].values.reshape(-1, 1)"
   ]
  },
  {
   "cell_type": "code",
   "execution_count": 185,
   "metadata": {},
   "outputs": [],
   "source": [
    "lr = LinearRegression()\n",
    "reg_A = lr.fit(Ay, Ax)"
   ]
  },
  {
   "cell_type": "code",
   "execution_count": 186,
   "metadata": {},
   "outputs": [
    {
     "name": "stdout",
     "output_type": "stream",
     "text": [
      "R^2 Score:  0.005479073193588535\n",
      "Slope:  -8.615326447706285e-07\n",
      "Intercept:  0.930172727926258\n"
     ]
    }
   ],
   "source": [
    "coef_A = reg_A.coef_[0][0]\n",
    "intercept_A = reg_A.intercept_[0]\n",
    "\n",
    "print('R^2 Score: ', reg_A.score(Ay, Ax))\n",
    "print('Slope: ', coef_A)\n",
    "print('Intercept: ', intercept_A)"
   ]
  },
  {
   "cell_type": "code",
   "execution_count": 187,
   "metadata": {},
   "outputs": [
    {
     "data": {
      "text/plain": [
       "(-60, 60)"
      ]
     },
     "execution_count": 187,
     "metadata": {},
     "output_type": "execute_result"
    },
    {
     "data": {
      "image/png": "[encoded data removed]",
      "text/plain": [
       "<Figure size 864x864 with 1 Axes>"
      ]
     },
     "metadata": {},
     "output_type": "display_data"
    }
   ],
   "source": [
    "fig, ax = plt.subplots(1, figsize=(12,12))\n",
    "z = np.linspace(-6000000, 6000000, num=1200)\n",
    "ax.plot(z, plot_line(coef_A, intercept_A, z), '-')\n",
    "ax.scatter(Ay, Ax, alpha=1, s=5)\n",
    "ax.set_xlim(-4000000, 4000000)\n",
    "ax.set_ylim(-60, 60)"
   ]
  },
  {
   "cell_type": "markdown",
   "metadata": {},
   "source": [
    "### Group B"
   ]
  },
  {
   "cell_type": "code",
   "execution_count": 188,
   "metadata": {},
   "outputs": [],
   "source": [
    "plot_B = full_df[['delta_B%', 'delta_B$', 'delta_B$%', ]]\n",
    "plot_B = plot_B.replace([np.inf, -np.inf], np.nan).dropna()\n",
    "\n",
    "Bx = plot_B['delta_B%'].values.reshape(-1, 1)\n",
    "By = plot_B['delta_B$'].values.reshape(-1, 1)"
   ]
  },
  {
   "cell_type": "code",
   "execution_count": 189,
   "metadata": {},
   "outputs": [],
   "source": [
    "lr = LinearRegression()\n",
    "reg_B = lr.fit(By, Bx)"
   ]
  },
  {
   "cell_type": "code",
   "execution_count": 190,
   "metadata": {},
   "outputs": [
    {
     "name": "stdout",
     "output_type": "stream",
     "text": [
      "R^2 Score:  0.012301528965825592\n",
      "Slope:  1.4986713214462976e-06\n",
      "Intercept:  -0.9238577323169539\n"
     ]
    }
   ],
   "source": [
    "coef_B = reg_B.coef_[0][0]\n",
    "intercept_B = reg_B.intercept_[0]\n",
    "\n",
    "print('R^2 Score: ', reg_B.score(By,Bx))\n",
    "print('Slope: ', coef_B)\n",
    "print('Intercept: ', intercept_B)"
   ]
  },
  {
   "cell_type": "code",
   "execution_count": 191,
   "metadata": {},
   "outputs": [
    {
     "data": {
      "text/plain": [
       "(-60, 60)"
      ]
     },
     "execution_count": 191,
     "metadata": {},
     "output_type": "execute_result"
    },
    {
     "data": {
      "image/png": "[encoded data removed]",
      "text/plain": [
       "<Figure size 864x864 with 1 Axes>"
      ]
     },
     "metadata": {},
     "output_type": "display_data"
    }
   ],
   "source": [
    "fig, ax = plt.subplots(1, figsize=(12,12))\n",
    "z = np.linspace(-4000000, 4000000, num=1200)\n",
    "ax.plot(z, plot_line(coef_B, intercept_B, z), '-')\n",
    "ax.scatter(By, Bx, alpha=1, s=3)\n",
    "ax.set_xlim(-4000000, 4000000)\n",
    "ax.set_ylim(-60, 60)"
   ]
  },
  {
   "cell_type": "markdown",
   "metadata": {},
   "source": [
    "## Stop Here, Move rest"
   ]
  },
  {
   "cell_type": "code",
   "execution_count": 218,
   "metadata": {},
   "outputs": [],
   "source": [
    "dp_df = full_df[~full_df.DP1.isna()]\n",
    "dp_df[['DP1','DP2']]\n",
    "dp_df = dp_df.assign(DP1_cat = lambda v: v.DP1.apply(lambda x: 'A' if abs(x) <= .5 else 'B'),\n",
    "                     DP2_cat = lambda v: v.DP2.apply(lambda x: 'A' if abs(x) <= .5 else 'B'))"
   ]
  },
  {
   "cell_type": "code",
   "execution_count": 220,
   "metadata": {},
   "outputs": [],
   "source": [
    "LP = dp_df[dp_df.DP1_cat=='A']\n",
    "MP = dp_df[dp_df.DP1_cat=='B']"
   ]
  },
  {
   "cell_type": "code",
   "execution_count": 222,
   "metadata": {},
   "outputs": [
    {
     "name": "stdout",
     "output_type": "stream",
     "text": [
      "R^2 Score:  0.04597196351312616\n",
      "Slope:  2.8648387198971917e-06\n",
      "Intercept:  -0.7142199351908963\n"
     ]
    },
    {
     "data": {
      "text/plain": [
       "(-60, 60)"
      ]
     },
     "execution_count": 222,
     "metadata": {},
     "output_type": "execute_result"
    },
    {
     "data": {
      "image/png": "[encoded data removed]",
      "text/plain": [
       "<Figure size 864x864 with 1 Axes>"
      ]
     },
     "metadata": {},
     "output_type": "display_data"
    }
   ],
   "source": [
    "plot_LP = LP[['delta_B%', 'delta_B$', 'delta_B$%']]\n",
    "plot_LP = plot_LP.replace([np.inf, -np.inf], np.nan).dropna()\n",
    "\n",
    "\n",
    "Bx = plot_LP['delta_B%'].values.reshape(-1, 1)\n",
    "By = plot_LP['delta_B$'].values.reshape(-1, 1)\n",
    "lr = LinearRegression()\n",
    "reg_B = lr.fit(By, Bx)\n",
    "\n",
    "coef_B = reg_B.coef_[0][0]\n",
    "intercept_B = reg_B.intercept_[0]\n",
    "\n",
    "print('R^2 Score: ', reg_B.score(By,Bx))\n",
    "print('Slope: ', coef_B)\n",
    "print('Intercept: ', intercept_B)\n",
    "\n",
    "fig, ax = plt.subplots(1, figsize=(12,12))\n",
    "z = np.linspace(-4000000, 4000000, num=1200)\n",
    "ax.plot(z, plot_line(coef_B, intercept_B, z), '-')\n",
    "ax.scatter(By, Bx, alpha=1, s=3)\n",
    "ax.set_xlim(-4000000, 4000000)\n",
    "ax.set_ylim(-60, 60)"
   ]
  },
  {
   "cell_type": "code",
   "execution_count": 223,
   "metadata": {},
   "outputs": [
    {
     "name": "stdout",
     "output_type": "stream",
     "text": [
      "R^2 Score:  0.00016067974399514018\n",
      "Slope:  -1.7280657062780557e-07\n",
      "Intercept:  -1.1278262545897688\n"
     ]
    },
    {
     "data": {
      "text/plain": [
       "(-60, 60)"
      ]
     },
     "execution_count": 223,
     "metadata": {},
     "output_type": "execute_result"
    },
    {
     "data": {
      "image/png": "[encoded data removed]",
      "text/plain": [
       "<Figure size 864x864 with 1 Axes>"
      ]
     },
     "metadata": {},
     "output_type": "display_data"
    }
   ],
   "source": [
    "plot_MP = MP[['delta_B%', 'delta_B$', 'delta_B$%']]\n",
    "plot_MP = plot_MP.replace([np.inf, -np.inf], np.nan).dropna()\n",
    "\n",
    "\n",
    "Bx = plot_MP['delta_B%'].values.reshape(-1, 1)\n",
    "By = plot_MP['delta_B$'].values.reshape(-1, 1)\n",
    "lr = LinearRegression()\n",
    "reg_B = lr.fit(By, Bx)\n",
    "\n",
    "coef_B = reg_B.coef_[0][0]\n",
    "intercept_B = reg_B.intercept_[0]\n",
    "\n",
    "print('R^2 Score: ', reg_B.score(By,Bx))\n",
    "print('Slope: ', coef_B)\n",
    "print('Intercept: ', intercept_B)\n",
    "\n",
    "fig, ax = plt.subplots(1, figsize=(12,12))\n",
    "z = np.linspace(-4000000, 4000000, num=1200)\n",
    "ax.plot(z, plot_line(coef_B, intercept_B, z), '-')\n",
    "ax.scatter(By, Bx, alpha=1, s=3)\n",
    "ax.set_xlim(-4000000, 4000000)\n",
    "ax.set_ylim(-60, 60)"
   ]
  },
  {
   "cell_type": "code",
   "execution_count": null,
   "metadata": {},
   "outputs": [],
   "source": []
  }
 ],
 "metadata": {
  "kernelspec": {
   "display_name": "Python 3",
   "language": "python",
   "name": "python3"
  },
  "language_info": {
   "codemirror_mode": {
    "name": "ipython",
    "version": 3
   },
   "file_extension": ".py",
   "mimetype": "text/x-python",
   "name": "python",
   "nbconvert_exporter": "python",
   "pygments_lexer": "ipython3",
   "version": "3.7.1"
  }
 },
 "nbformat": 4,
 "nbformat_minor": 2
}
