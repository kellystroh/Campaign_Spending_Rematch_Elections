{
 "cells": [
  {
   "cell_type": "code",
   "execution_count": 1,
   "metadata": {},
   "outputs": [],
   "source": [
    "%matplotlib inline\n",
    "\n",
    "import pandas as pd\n",
    "import numpy as np\n",
    "import scipy as sp\n",
    "import scipy.stats as stats\n",
    "import matplotlib.pyplot as plt\n",
    "from load import rematch_sets, rematch_cand\n",
    "\n",
    "plt.style.use('ggplot')"
   ]
  },
  {
   "cell_type": "markdown",
   "metadata": {},
   "source": [
    "### Load the refined dataset\n",
    "To replicate this notebook, download the original DIME dataset and run the python file **load.py** included in this repo. For a step-by-step guide to data processing run in **load.py**, look through the data_cleaning notebook. Essential details will be repeated here, so it is not necessary to read that notebook first. "
   ]
  },
  {
   "cell_type": "code",
   "execution_count": 2,
   "metadata": {},
   "outputs": [],
   "source": [
    "cand_df = pd.read_csv('data/candidate_df.csv')"
   ]
  },
  {
   "cell_type": "markdown",
   "metadata": {},
   "source": [
    "#### For simplicity, we'll only include columns needed for initial exploration. "
   ]
  },
  {
   "cell_type": "code",
   "execution_count": 3,
   "metadata": {},
   "outputs": [
    {
     "data": {
      "text/plain": [
       "13"
      ]
     },
     "execution_count": 3,
     "metadata": {},
     "output_type": "execute_result"
    }
   ],
   "source": [
    "col_short_list = ['cycle', 'Cand.ID', 'ICPSR', 'name','party', 'state', 'district', \n",
    "                  'Incum.Chall', 'total.disbursements', 'total.receipts',\n",
    "                  'gen.elect.pct', 'winner', 'race_ID']\n",
    "len(col_short_list)"
   ]
  },
  {
   "cell_type": "markdown",
   "metadata": {},
   "source": [
    "|       Column Name      |         Column Description                                                       |\n",
    "|:----------------------:|:---------------------------------:                                               |\n",
    "| Cycle                  | Election year                                                                    |\n",
    "| Cand.ID                | Identification for Candidate                                                     |\n",
    "| ICPSR                  | Unique identifier specific to candidate AND election                             |\n",
    "| name                   | Name of candidate                                                                |\n",
    "| party                  | Political Party: 100 = Dem, 200 = Rep, 328 = Ind                                 |\n",
    "| state                  | Two-letter state abbreviations                                                   |\n",
    "| district               | District code: two-letter state code followed by congressional district number.  |\n",
    "| Incum.Chall            | Incumbency status: ’I’ = Incumbent, ’C’ = Challenger, ’O’ = Open Seat Candidate  |\n",
    "| total.disbursements    | Campaign funds spent                                                             |\n",
    "| total.receipts         | Campaign funds received                                                          |\n",
    "| gen.elect.pct          | FEC reported vote share in general election                                      |\n",
    "| winner                 | General election outcome: 'L' or 'W'                                             |\n",
    "| race_ID                | Election Year + District code                                                    |"
   ]
  },
  {
   "cell_type": "code",
   "execution_count": 4,
   "metadata": {},
   "outputs": [],
   "source": [
    "cand_df = cand_df[col_short_list]"
   ]
  },
  {
   "cell_type": "code",
   "execution_count": 5,
   "metadata": {},
   "outputs": [
    {
     "name": "stdout",
     "output_type": "stream",
     "text": [
      "(13531, 13)\n"
     ]
    },
    {
     "data": {
      "text/html": [
       "<div>\n",
       "<style scoped>\n",
       "    .dataframe tbody tr th:only-of-type {\n",
       "        vertical-align: middle;\n",
       "    }\n",
       "\n",
       "    .dataframe tbody tr th {\n",
       "        vertical-align: top;\n",
       "    }\n",
       "\n",
       "    .dataframe thead th {\n",
       "        text-align: right;\n",
       "    }\n",
       "</style>\n",
       "<table border=\"1\" class=\"dataframe\">\n",
       "  <thead>\n",
       "    <tr style=\"text-align: right;\">\n",
       "      <th></th>\n",
       "      <th>cycle</th>\n",
       "      <th>Cand.ID</th>\n",
       "      <th>ICPSR</th>\n",
       "      <th>name</th>\n",
       "      <th>party</th>\n",
       "      <th>state</th>\n",
       "      <th>district</th>\n",
       "      <th>Incum.Chall</th>\n",
       "      <th>total.disbursements</th>\n",
       "      <th>total.receipts</th>\n",
       "      <th>gen.elect.pct</th>\n",
       "      <th>winner</th>\n",
       "      <th>race_ID</th>\n",
       "    </tr>\n",
       "  </thead>\n",
       "  <tbody>\n",
       "    <tr>\n",
       "      <th>0</th>\n",
       "      <td>1980.0</td>\n",
       "      <td>H8WV03014</td>\n",
       "      <td>148651980</td>\n",
       "      <td>staton, david michael \"mick\"</td>\n",
       "      <td>200</td>\n",
       "      <td>WV</td>\n",
       "      <td>WV03</td>\n",
       "      <td>C</td>\n",
       "      <td>73025.0</td>\n",
       "      <td>70755.0</td>\n",
       "      <td>53.0</td>\n",
       "      <td>W</td>\n",
       "      <td>1980-WV03</td>\n",
       "    </tr>\n",
       "    <tr>\n",
       "      <th>1</th>\n",
       "      <td>1980.0</td>\n",
       "      <td>H8WI07013</td>\n",
       "      <td>H8WI070131980</td>\n",
       "      <td>vesta, vinton a.</td>\n",
       "      <td>200</td>\n",
       "      <td>WI</td>\n",
       "      <td>WI07</td>\n",
       "      <td>C</td>\n",
       "      <td>29971.0</td>\n",
       "      <td>30162.0</td>\n",
       "      <td>35.0</td>\n",
       "      <td>L</td>\n",
       "      <td>1980-WI07</td>\n",
       "    </tr>\n",
       "    <tr>\n",
       "      <th>2</th>\n",
       "      <td>1980.0</td>\n",
       "      <td>H8WI04028</td>\n",
       "      <td>H8WI040281980</td>\n",
       "      <td>honadel, elroy charles</td>\n",
       "      <td>200</td>\n",
       "      <td>WI</td>\n",
       "      <td>WI04</td>\n",
       "      <td>C</td>\n",
       "      <td>10201.0</td>\n",
       "      <td>9720.0</td>\n",
       "      <td>29.0</td>\n",
       "      <td>L</td>\n",
       "      <td>1980-WI04</td>\n",
       "    </tr>\n",
       "  </tbody>\n",
       "</table>\n",
       "</div>"
      ],
      "text/plain": [
       "    cycle    Cand.ID          ICPSR                          name  party  \\\n",
       "0  1980.0  H8WV03014      148651980  staton, david michael \"mick\"    200   \n",
       "1  1980.0  H8WI07013  H8WI070131980              vesta, vinton a.    200   \n",
       "2  1980.0  H8WI04028  H8WI040281980        honadel, elroy charles    200   \n",
       "\n",
       "  state district Incum.Chall  total.disbursements  total.receipts  \\\n",
       "0    WV     WV03           C              73025.0         70755.0   \n",
       "1    WI     WI07           C              29971.0         30162.0   \n",
       "2    WI     WI04           C              10201.0          9720.0   \n",
       "\n",
       "   gen.elect.pct winner    race_ID  \n",
       "0           53.0      W  1980-WV03  \n",
       "1           35.0      L  1980-WI07  \n",
       "2           29.0      L  1980-WI04  "
      ]
     },
     "execution_count": 5,
     "metadata": {},
     "output_type": "execute_result"
    }
   ],
   "source": [
    "print(cand_df.shape)\n",
    "cand_df.head(3)"
   ]
  },
  {
   "cell_type": "code",
   "execution_count": 106,
   "metadata": {},
   "outputs": [],
   "source": [
    "eda = cand_df.copy()\n",
    "eda.rename(columns={'party':'Party','Incum.Chall':'Incumbency','total.disbursements':'Money Spent','total.receipts':'Money Received','gen.elect.pct':'Vote Percentage','winner':'Election Results'},inplace=True)\n"
   ]
  },
  {
   "cell_type": "code",
   "execution_count": 107,
   "metadata": {},
   "outputs": [
    {
     "data": {
      "image/png": "[encoded data removed]",
      "text/plain": [
       "<Figure size 1080x360 with 1 Axes>"
      ]
     },
     "metadata": {
      "needs_background": "light"
     },
     "output_type": "display_data"
    }
   ],
   "source": [
    "X = eda['Money Spent']\n",
    "y = eda['Vote Percentage']\n",
    "plt.subplots(figsize = (15, 5))\n",
    "plt.scatter(X, y, s=2)\n",
    "plt.show()"
   ]
  },
  {
   "cell_type": "code",
   "execution_count": 116,
   "metadata": {},
   "outputs": [
    {
     "data": {
      "image/png": "[encoded data removed]",
      "text/plain": [
       "<Figure size 432x432 with 1 Axes>"
      ]
     },
     "metadata": {
      "needs_background": "light"
     },
     "output_type": "display_data"
    }
   ],
   "source": [
    "fig, ax = plt.subplots(1, figsize=(6,6))\n",
    "eda.boxplot(ax=ax, column=['Money Spent'], by='Election Results', showfliers=False)\n",
    "plt.show()"
   ]
  },
  {
   "cell_type": "code",
   "execution_count": 122,
   "metadata": {},
   "outputs": [
    {
     "data": {
      "text/plain": [
       "<matplotlib.axes._subplots.AxesSubplot at 0x1a2ac08a20>"
      ]
     },
     "execution_count": 122,
     "metadata": {},
     "output_type": "execute_result"
    },
    {
     "data": {
      "image/png": "[encoded data removed]",
      "text/plain": [
       "<Figure size 720x432 with 2 Axes>"
      ]
     },
     "metadata": {
      "needs_background": "light"
     },
     "output_type": "display_data"
    }
   ],
   "source": [
    "fig, ax = plt.subplots(1,2, figsize=(10, 6))\n",
    "eda.boxplot(ax=ax[0], column=['Money Spent'], by='Party', showfliers=False)\n",
    "eda.boxplot(ax=ax[1], column=['Vote Percentage'], by='Party', showfliers=False)"
   ]
  },
  {
   "cell_type": "code",
   "execution_count": 123,
   "metadata": {},
   "outputs": [
    {
     "data": {
      "image/png": "[encoded data removed]",
      "text/plain": [
       "<Figure size 720x432 with 2 Axes>"
      ]
     },
     "metadata": {
      "needs_background": "light"
     },
     "output_type": "display_data"
    }
   ],
   "source": [
    "fig, ax = plt.subplots(1,2, figsize=(10, 6))\n",
    "eda.boxplot(ax=ax[0], column=['Money Spent'], by='Incumbency', showfliers=False)\n",
    "eda.boxplot(ax=ax[1], column=['Vote Percentage'], by='Incumbency', showfliers=False)\n",
    "plt.show()"
   ]
  },
  {
   "cell_type": "markdown",
   "metadata": {},
   "source": [
    "### Remember the research question: \n",
    "In congressional rematch elections, is there a correlation between changes in campaign expenditures and changes in vote percentage? \n",
    "\n",
    "#### Defining 'rematch'\n",
    "For clarity, we'll think of rematches as two elections that have the same two leading candidates. When we look at the change in campaign spending and votes received, we will evaluate the races chronologically. \n",
    "\n",
    "#### Designing the dataframe\n",
    "We currently have one row per candidate per election. We want one row per rematch, which includes candidate A, candidate B, first race, and second race. "
   ]
  },
  {
   "cell_type": "code",
   "execution_count": 7,
   "metadata": {},
   "outputs": [],
   "source": [
    "match_one = [x[0] for x in rematch_sets]\n",
    "match_two = [x[1] for x in rematch_sets]"
   ]
  },
  {
   "cell_type": "code",
   "execution_count": 8,
   "metadata": {
    "scrolled": true
   },
   "outputs": [],
   "source": [
    "match1_df = cand_df[cand_df['race_ID'].isin(match_one)].copy()\n",
    "match2_df = cand_df[cand_df['race_ID'].isin(match_two)].copy()"
   ]
  },
  {
   "cell_type": "code",
   "execution_count": 9,
   "metadata": {},
   "outputs": [],
   "source": [
    "rematch_cand_A = [each[0] for each in rematch_cand if len(each)==2]\n",
    "rematch_cand_B = [each[1] for each in rematch_cand if len(each)==2]"
   ]
  },
  {
   "cell_type": "code",
   "execution_count": 10,
   "metadata": {},
   "outputs": [],
   "source": [
    "match_1A = match1_df[match1_df['ICPSR'].isin(rematch_cand_A)].copy()\n",
    "match_1B = match1_df[match1_df['ICPSR'].isin(rematch_cand_B)].copy()"
   ]
  },
  {
   "cell_type": "code",
   "execution_count": 11,
   "metadata": {},
   "outputs": [],
   "source": [
    "match_2A = match2_df[match2_df['ICPSR'].isin(rematch_cand_A)].copy()\n",
    "match_2B = match2_df[match2_df['ICPSR'].isin(rematch_cand_B)].copy()"
   ]
  },
  {
   "cell_type": "code",
   "execution_count": 12,
   "metadata": {},
   "outputs": [
    {
     "data": {
      "text/plain": [
       "['cycle',\n",
       " 'Cand.ID',\n",
       " 'ICPSR',\n",
       " 'name',\n",
       " 'party',\n",
       " 'state',\n",
       " 'district',\n",
       " 'Incum.Chall',\n",
       " 'total.disbursements',\n",
       " 'total.receipts',\n",
       " 'gen.elect.pct',\n",
       " 'winner',\n",
       " 'race_ID']"
      ]
     },
     "execution_count": 12,
     "metadata": {},
     "output_type": "execute_result"
    }
   ],
   "source": [
    "columns_list = list(match_1A.columns)\n",
    "columns_list"
   ]
  },
  {
   "cell_type": "code",
   "execution_count": 13,
   "metadata": {},
   "outputs": [],
   "source": [
    "column_dictA1 = {'Cand.ID': 'A1_id', 'district.partisanship': 'DP1', 'ICPSR': 'A_ICPSR', 'name':'A1_name', 'party':'A1_party', 'Incum.Chall':'A1_IC', 'state':'state1', 'district':'district1', 'total.disbursements':'A1_spent', 'total.receipts':'A1_raised', 'gen.elect.pct':'A1_pct', 'winner':'A1_outcome', 'race_ID':'race1_ID'}\n",
    "column_dictB1 = {'Cand.ID': 'B1_id', 'district.partisanship': 'DP1', 'ICPSR': 'B_ICPSR', 'name':'B1_name', 'party':'B1_party', 'Incum.Chall':'B1_IC', 'state':'state1', 'district':'district1', 'total.disbursements':'B1_spent', 'total.receipts':'B1_raised', 'gen.elect.pct':'B1_pct', 'winner':'B1_outcome', 'race_ID':'race1_ID'}\n",
    "column_dictA2 = {'Cand.ID': 'A2_id', 'district.partisanship': 'DP2', 'ICPSR': 'A_ICPSR', 'name':'A2_name', 'party':'A2_party', 'Incum.Chall':'A2_IC', 'state':'state2', 'district':'district2', 'total.disbursements':'A2_spent', 'total.receipts':'A2_raised', 'gen.elect.pct':'A2_pct', 'winner':'A2_outcome', 'race_ID':'race2_ID'}\n",
    "column_dictB2 = {'Cand.ID': 'B2_id', 'district.partisanship': 'DP2', 'ICPSR': 'B_ICPSR', 'name':'B2_name', 'party':'B2_party', 'Incum.Chall':'B2_IC', 'state':'state2', 'district':'district2', 'total.disbursements':'B2_spent', 'total.receipts':'B2_raised', 'gen.elect.pct':'B2_pct', 'winner':'B2_outcome', 'race_ID':'race2_ID'}"
   ]
  },
  {
   "cell_type": "code",
   "execution_count": 14,
   "metadata": {},
   "outputs": [],
   "source": [
    "match_1A.rename(column_dictA1, axis='columns', inplace=True)\n",
    "match_1A.drop('cycle', axis=1, inplace=True)\n",
    "match_2A.rename(column_dictA2, axis='columns', inplace=True)\n",
    "match_2A.drop('cycle', axis=1, inplace=True)\n",
    "match_1B.rename(column_dictB1, axis='columns', inplace=True)\n",
    "match_1B.drop(['cycle', 'state1', 'district1'], axis=1, inplace=True)\n",
    "match_2B.rename(column_dictB2, axis='columns', inplace=True)\n",
    "match_2B.drop(['cycle', 'state2', 'district2'], axis=1, inplace=True)"
   ]
  },
  {
   "cell_type": "code",
   "execution_count": 15,
   "metadata": {},
   "outputs": [],
   "source": [
    "first_match_df = match_1A.merge(match_1B)\n",
    "second_match_df = match_2A.merge(match_2B)"
   ]
  },
  {
   "cell_type": "code",
   "execution_count": 16,
   "metadata": {},
   "outputs": [],
   "source": [
    "col_order_1 = first_match_df.columns.tolist()\n",
    "col_order_1.remove('state1')\n",
    "col_order_1.remove('district1')\n",
    "col_order_1.remove('race1_ID')\n",
    "col_order_1.insert(0, 'race1_ID')\n",
    "col_order_1.insert(1, 'state1')\n",
    "col_order_1.insert(1, 'district1')\n",
    "\n",
    "col_order_2 = second_match_df.columns.tolist()\n",
    "col_order_2.remove('state2')\n",
    "col_order_2.remove('district2')\n",
    "col_order_2.remove('race2_ID')\n",
    "col_order_2.insert(0, 'race2_ID')\n",
    "col_order_2.insert(1, 'state2')\n",
    "col_order_2.insert(1, 'district2')"
   ]
  },
  {
   "cell_type": "code",
   "execution_count": 17,
   "metadata": {},
   "outputs": [],
   "source": [
    "first_match_df = first_match_df.reindex(columns=col_order_1)\n",
    "second_match_df = second_match_df.reindex(columns=col_order_2)"
   ]
  },
  {
   "cell_type": "code",
   "execution_count": 18,
   "metadata": {},
   "outputs": [
    {
     "data": {
      "text/html": [
       "<div>\n",
       "<style scoped>\n",
       "    .dataframe tbody tr th:only-of-type {\n",
       "        vertical-align: middle;\n",
       "    }\n",
       "\n",
       "    .dataframe tbody tr th {\n",
       "        vertical-align: top;\n",
       "    }\n",
       "\n",
       "    .dataframe thead th {\n",
       "        text-align: right;\n",
       "    }\n",
       "</style>\n",
       "<table border=\"1\" class=\"dataframe\">\n",
       "  <thead>\n",
       "    <tr style=\"text-align: right;\">\n",
       "      <th></th>\n",
       "      <th>race1_ID</th>\n",
       "      <th>district1</th>\n",
       "      <th>state1</th>\n",
       "      <th>A1_id</th>\n",
       "      <th>A_ICPSR</th>\n",
       "      <th>A1_name</th>\n",
       "      <th>A1_party</th>\n",
       "      <th>A1_IC</th>\n",
       "      <th>A1_spent</th>\n",
       "      <th>A1_raised</th>\n",
       "      <th>...</th>\n",
       "      <th>B1_id</th>\n",
       "      <th>B_ICPSR</th>\n",
       "      <th>B1_name</th>\n",
       "      <th>B1_party</th>\n",
       "      <th>B1_IC</th>\n",
       "      <th>B1_spent</th>\n",
       "      <th>B1_raised</th>\n",
       "      <th>B1_pct</th>\n",
       "      <th>B1_outcome</th>\n",
       "      <th>top_cands</th>\n",
       "    </tr>\n",
       "  </thead>\n",
       "  <tbody>\n",
       "    <tr>\n",
       "      <th>0</th>\n",
       "      <td>1980-TX21</td>\n",
       "      <td>TX21</td>\n",
       "      <td>TX</td>\n",
       "      <td>H8TX21067</td>\n",
       "      <td>146451980</td>\n",
       "      <td>loeffler, tom</td>\n",
       "      <td>200</td>\n",
       "      <td>I</td>\n",
       "      <td>330566.0</td>\n",
       "      <td>479486.0</td>\n",
       "      <td>...</td>\n",
       "      <td>H6TX21095</td>\n",
       "      <td>H6TX210951980</td>\n",
       "      <td>sullivan, joseph pierre</td>\n",
       "      <td>100</td>\n",
       "      <td>C</td>\n",
       "      <td>45382.0</td>\n",
       "      <td>45382.0</td>\n",
       "      <td>23.0</td>\n",
       "      <td>L</td>\n",
       "      <td>H8TX21067-H6TX21095</td>\n",
       "    </tr>\n",
       "    <tr>\n",
       "      <th>1</th>\n",
       "      <td>1980-NE02</td>\n",
       "      <td>NE02</td>\n",
       "      <td>NE</td>\n",
       "      <td>H8NE02022</td>\n",
       "      <td>148101980</td>\n",
       "      <td>daub, harold john jr (hal)</td>\n",
       "      <td>200</td>\n",
       "      <td>O</td>\n",
       "      <td>329671.0</td>\n",
       "      <td>331903.0</td>\n",
       "      <td>...</td>\n",
       "      <td>H0NE02052</td>\n",
       "      <td>H0NE020521980</td>\n",
       "      <td>fellman, richard m</td>\n",
       "      <td>100</td>\n",
       "      <td>O</td>\n",
       "      <td>153539.0</td>\n",
       "      <td>164860.0</td>\n",
       "      <td>44.0</td>\n",
       "      <td>L</td>\n",
       "      <td>H8NE02022-H0NE02052</td>\n",
       "    </tr>\n",
       "    <tr>\n",
       "      <th>2</th>\n",
       "      <td>1980-TX13</td>\n",
       "      <td>TX13</td>\n",
       "      <td>TX</td>\n",
       "      <td>H6TX13027</td>\n",
       "      <td>142341980</td>\n",
       "      <td>hightower, jack</td>\n",
       "      <td>100</td>\n",
       "      <td>I</td>\n",
       "      <td>145292.0</td>\n",
       "      <td>129293.0</td>\n",
       "      <td>...</td>\n",
       "      <td>H0TX13012</td>\n",
       "      <td>H0TX130121980</td>\n",
       "      <td>slover, ronald edward</td>\n",
       "      <td>200</td>\n",
       "      <td>C</td>\n",
       "      <td>68268.0</td>\n",
       "      <td>74715.0</td>\n",
       "      <td>45.0</td>\n",
       "      <td>L</td>\n",
       "      <td>H6TX13027-H0TX13012</td>\n",
       "    </tr>\n",
       "    <tr>\n",
       "      <th>3</th>\n",
       "      <td>1980-NM01</td>\n",
       "      <td>NM01</td>\n",
       "      <td>NM</td>\n",
       "      <td>H6NM01020</td>\n",
       "      <td>120221980</td>\n",
       "      <td>lujan, manuel jr</td>\n",
       "      <td>200</td>\n",
       "      <td>I</td>\n",
       "      <td>178309.0</td>\n",
       "      <td>185664.0</td>\n",
       "      <td>...</td>\n",
       "      <td>H0NM01015</td>\n",
       "      <td>150551980</td>\n",
       "      <td>richardson, william b</td>\n",
       "      <td>100</td>\n",
       "      <td>C</td>\n",
       "      <td>234737.0</td>\n",
       "      <td>237013.0</td>\n",
       "      <td>49.0</td>\n",
       "      <td>L</td>\n",
       "      <td>H6NM01020-H0NM01015</td>\n",
       "    </tr>\n",
       "    <tr>\n",
       "      <th>4</th>\n",
       "      <td>1980-MD02</td>\n",
       "      <td>MD02</td>\n",
       "      <td>MD</td>\n",
       "      <td>H6MD02039</td>\n",
       "      <td>106011980</td>\n",
       "      <td>long, clarence dickinson</td>\n",
       "      <td>100</td>\n",
       "      <td>I</td>\n",
       "      <td>153619.0</td>\n",
       "      <td>158280.0</td>\n",
       "      <td>...</td>\n",
       "      <td>H0MD02057</td>\n",
       "      <td>150861980</td>\n",
       "      <td>bentley, helen delich</td>\n",
       "      <td>200</td>\n",
       "      <td>C</td>\n",
       "      <td>252599.0</td>\n",
       "      <td>253028.0</td>\n",
       "      <td>43.0</td>\n",
       "      <td>L</td>\n",
       "      <td>H6MD02039-H0MD02057</td>\n",
       "    </tr>\n",
       "  </tbody>\n",
       "</table>\n",
       "<p>5 rows × 22 columns</p>\n",
       "</div>"
      ],
      "text/plain": [
       "    race1_ID district1 state1      A1_id    A_ICPSR  \\\n",
       "0  1980-TX21      TX21     TX  H8TX21067  146451980   \n",
       "1  1980-NE02      NE02     NE  H8NE02022  148101980   \n",
       "2  1980-TX13      TX13     TX  H6TX13027  142341980   \n",
       "3  1980-NM01      NM01     NM  H6NM01020  120221980   \n",
       "4  1980-MD02      MD02     MD  H6MD02039  106011980   \n",
       "\n",
       "                      A1_name  A1_party A1_IC  A1_spent  A1_raised  \\\n",
       "0               loeffler, tom       200     I  330566.0   479486.0   \n",
       "1  daub, harold john jr (hal)       200     O  329671.0   331903.0   \n",
       "2             hightower, jack       100     I  145292.0   129293.0   \n",
       "3            lujan, manuel jr       200     I  178309.0   185664.0   \n",
       "4    long, clarence dickinson       100     I  153619.0   158280.0   \n",
       "\n",
       "          ...               B1_id        B_ICPSR                  B1_name  \\\n",
       "0         ...           H6TX21095  H6TX210951980  sullivan, joseph pierre   \n",
       "1         ...           H0NE02052  H0NE020521980       fellman, richard m   \n",
       "2         ...           H0TX13012  H0TX130121980    slover, ronald edward   \n",
       "3         ...           H0NM01015      150551980    richardson, william b   \n",
       "4         ...           H0MD02057      150861980    bentley, helen delich   \n",
       "\n",
       "  B1_party B1_IC  B1_spent B1_raised  B1_pct  B1_outcome            top_cands  \n",
       "0      100     C   45382.0   45382.0    23.0           L  H8TX21067-H6TX21095  \n",
       "1      100     O  153539.0  164860.0    44.0           L  H8NE02022-H0NE02052  \n",
       "2      200     C   68268.0   74715.0    45.0           L  H6TX13027-H0TX13012  \n",
       "3      100     C  234737.0  237013.0    49.0           L  H6NM01020-H0NM01015  \n",
       "4      200     C  252599.0  253028.0    43.0           L  H6MD02039-H0MD02057  \n",
       "\n",
       "[5 rows x 22 columns]"
      ]
     },
     "execution_count": 18,
     "metadata": {},
     "output_type": "execute_result"
    }
   ],
   "source": [
    "first_match_df['top_cands'] = first_match_df.agg(lambda x: f\"{x['A1_id']}-{x['B1_id']}\", axis=1)\n",
    "first_match_df.head()"
   ]
  },
  {
   "cell_type": "code",
   "execution_count": 19,
   "metadata": {},
   "outputs": [
    {
     "data": {
      "text/html": [
       "<div>\n",
       "<style scoped>\n",
       "    .dataframe tbody tr th:only-of-type {\n",
       "        vertical-align: middle;\n",
       "    }\n",
       "\n",
       "    .dataframe tbody tr th {\n",
       "        vertical-align: top;\n",
       "    }\n",
       "\n",
       "    .dataframe thead th {\n",
       "        text-align: right;\n",
       "    }\n",
       "</style>\n",
       "<table border=\"1\" class=\"dataframe\">\n",
       "  <thead>\n",
       "    <tr style=\"text-align: right;\">\n",
       "      <th></th>\n",
       "      <th>race2_ID</th>\n",
       "      <th>district2</th>\n",
       "      <th>state2</th>\n",
       "      <th>A2_id</th>\n",
       "      <th>A_ICPSR</th>\n",
       "      <th>A2_name</th>\n",
       "      <th>A2_party</th>\n",
       "      <th>A2_IC</th>\n",
       "      <th>A2_spent</th>\n",
       "      <th>A2_raised</th>\n",
       "      <th>...</th>\n",
       "      <th>B2_id</th>\n",
       "      <th>B_ICPSR</th>\n",
       "      <th>B2_name</th>\n",
       "      <th>B2_party</th>\n",
       "      <th>B2_IC</th>\n",
       "      <th>B2_spent</th>\n",
       "      <th>B2_raised</th>\n",
       "      <th>B2_pct</th>\n",
       "      <th>B2_outcome</th>\n",
       "      <th>top_cands</th>\n",
       "    </tr>\n",
       "  </thead>\n",
       "  <tbody>\n",
       "    <tr>\n",
       "      <th>0</th>\n",
       "      <td>1982-NE02</td>\n",
       "      <td>NE02</td>\n",
       "      <td>NE</td>\n",
       "      <td>H8NE02022</td>\n",
       "      <td>148101982</td>\n",
       "      <td>daub, hal</td>\n",
       "      <td>200</td>\n",
       "      <td>I</td>\n",
       "      <td>224139.0</td>\n",
       "      <td>226583.0</td>\n",
       "      <td>...</td>\n",
       "      <td>H0NE02052</td>\n",
       "      <td>H0NE020521982</td>\n",
       "      <td>fellman, richard m</td>\n",
       "      <td>100</td>\n",
       "      <td>C</td>\n",
       "      <td>160320.0</td>\n",
       "      <td>160320.0</td>\n",
       "      <td>43.0</td>\n",
       "      <td>L</td>\n",
       "      <td>H8NE02022-H0NE02052</td>\n",
       "    </tr>\n",
       "    <tr>\n",
       "      <th>1</th>\n",
       "      <td>1982-TX13</td>\n",
       "      <td>TX13</td>\n",
       "      <td>TX</td>\n",
       "      <td>H6TX13027</td>\n",
       "      <td>142341982</td>\n",
       "      <td>hightower, jack</td>\n",
       "      <td>100</td>\n",
       "      <td>I</td>\n",
       "      <td>325997.0</td>\n",
       "      <td>335506.0</td>\n",
       "      <td>...</td>\n",
       "      <td>H0TX13012</td>\n",
       "      <td>H0TX130121982</td>\n",
       "      <td>slover, ronald edward</td>\n",
       "      <td>200</td>\n",
       "      <td>C</td>\n",
       "      <td>82625.0</td>\n",
       "      <td>95154.0</td>\n",
       "      <td>35.0</td>\n",
       "      <td>L</td>\n",
       "      <td>H6TX13027-H0TX13012</td>\n",
       "    </tr>\n",
       "    <tr>\n",
       "      <th>2</th>\n",
       "      <td>1982-MD02</td>\n",
       "      <td>MD02</td>\n",
       "      <td>MD</td>\n",
       "      <td>H6MD02039</td>\n",
       "      <td>106011982</td>\n",
       "      <td>long, clarence dickinson</td>\n",
       "      <td>100</td>\n",
       "      <td>I</td>\n",
       "      <td>162439.0</td>\n",
       "      <td>186959.0</td>\n",
       "      <td>...</td>\n",
       "      <td>H0MD02057</td>\n",
       "      <td>150861982</td>\n",
       "      <td>bentley, helen delich</td>\n",
       "      <td>200</td>\n",
       "      <td>C</td>\n",
       "      <td>209059.0</td>\n",
       "      <td>210254.0</td>\n",
       "      <td>47.0</td>\n",
       "      <td>L</td>\n",
       "      <td>H6MD02039-H0MD02057</td>\n",
       "    </tr>\n",
       "    <tr>\n",
       "      <th>3</th>\n",
       "      <td>1982-IL04</td>\n",
       "      <td>IL04</td>\n",
       "      <td>IL</td>\n",
       "      <td>H6IL17049</td>\n",
       "      <td>140411982</td>\n",
       "      <td>o'brien, george m</td>\n",
       "      <td>200</td>\n",
       "      <td>I</td>\n",
       "      <td>309393.0</td>\n",
       "      <td>293839.0</td>\n",
       "      <td>...</td>\n",
       "      <td>H0IL17018</td>\n",
       "      <td>H0IL170181982</td>\n",
       "      <td>murer, michael a</td>\n",
       "      <td>100</td>\n",
       "      <td>C</td>\n",
       "      <td>85546.0</td>\n",
       "      <td>83735.0</td>\n",
       "      <td>45.0</td>\n",
       "      <td>L</td>\n",
       "      <td>H6IL17049-H0IL17018</td>\n",
       "    </tr>\n",
       "    <tr>\n",
       "      <th>4</th>\n",
       "      <td>1982-CT04</td>\n",
       "      <td>CT04</td>\n",
       "      <td>CT</td>\n",
       "      <td>H6CT04028</td>\n",
       "      <td>130291982</td>\n",
       "      <td>mckinney, stewart b</td>\n",
       "      <td>200</td>\n",
       "      <td>I</td>\n",
       "      <td>294317.0</td>\n",
       "      <td>301747.0</td>\n",
       "      <td>...</td>\n",
       "      <td>H0CT04039</td>\n",
       "      <td>H0CT040391982</td>\n",
       "      <td>phillips, john aristotle</td>\n",
       "      <td>100</td>\n",
       "      <td>C</td>\n",
       "      <td>157953.0</td>\n",
       "      <td>156783.0</td>\n",
       "      <td>43.0</td>\n",
       "      <td>L</td>\n",
       "      <td>H6CT04028-H0CT04039</td>\n",
       "    </tr>\n",
       "  </tbody>\n",
       "</table>\n",
       "<p>5 rows × 22 columns</p>\n",
       "</div>"
      ],
      "text/plain": [
       "    race2_ID district2 state2      A2_id    A_ICPSR                   A2_name  \\\n",
       "0  1982-NE02      NE02     NE  H8NE02022  148101982                 daub, hal   \n",
       "1  1982-TX13      TX13     TX  H6TX13027  142341982           hightower, jack   \n",
       "2  1982-MD02      MD02     MD  H6MD02039  106011982  long, clarence dickinson   \n",
       "3  1982-IL04      IL04     IL  H6IL17049  140411982         o'brien, george m   \n",
       "4  1982-CT04      CT04     CT  H6CT04028  130291982       mckinney, stewart b   \n",
       "\n",
       "   A2_party A2_IC  A2_spent  A2_raised         ...               B2_id  \\\n",
       "0       200     I  224139.0   226583.0         ...           H0NE02052   \n",
       "1       100     I  325997.0   335506.0         ...           H0TX13012   \n",
       "2       100     I  162439.0   186959.0         ...           H0MD02057   \n",
       "3       200     I  309393.0   293839.0         ...           H0IL17018   \n",
       "4       200     I  294317.0   301747.0         ...           H0CT04039   \n",
       "\n",
       "         B_ICPSR                   B2_name B2_party B2_IC  B2_spent B2_raised  \\\n",
       "0  H0NE020521982        fellman, richard m      100     C  160320.0  160320.0   \n",
       "1  H0TX130121982     slover, ronald edward      200     C   82625.0   95154.0   \n",
       "2      150861982     bentley, helen delich      200     C  209059.0  210254.0   \n",
       "3  H0IL170181982          murer, michael a      100     C   85546.0   83735.0   \n",
       "4  H0CT040391982  phillips, john aristotle      100     C  157953.0  156783.0   \n",
       "\n",
       "   B2_pct  B2_outcome            top_cands  \n",
       "0    43.0           L  H8NE02022-H0NE02052  \n",
       "1    35.0           L  H6TX13027-H0TX13012  \n",
       "2    47.0           L  H6MD02039-H0MD02057  \n",
       "3    45.0           L  H6IL17049-H0IL17018  \n",
       "4    43.0           L  H6CT04028-H0CT04039  \n",
       "\n",
       "[5 rows x 22 columns]"
      ]
     },
     "execution_count": 19,
     "metadata": {},
     "output_type": "execute_result"
    }
   ],
   "source": [
    "second_match_df['top_cands'] = second_match_df.agg(lambda x: f\"{x['A2_id']}-{x['B2_id']}\", axis=1)\n",
    "second_match_df.head()"
   ]
  },
  {
   "cell_type": "code",
   "execution_count": 20,
   "metadata": {},
   "outputs": [],
   "source": [
    "full_df = first_match_df.merge(second_match_df, on='top_cands')"
   ]
  },
  {
   "cell_type": "code",
   "execution_count": 21,
   "metadata": {},
   "outputs": [
    {
     "name": "stdout",
     "output_type": "stream",
     "text": [
      "(585, 43)\n"
     ]
    },
    {
     "data": {
      "text/html": [
       "<div>\n",
       "<style scoped>\n",
       "    .dataframe tbody tr th:only-of-type {\n",
       "        vertical-align: middle;\n",
       "    }\n",
       "\n",
       "    .dataframe tbody tr th {\n",
       "        vertical-align: top;\n",
       "    }\n",
       "\n",
       "    .dataframe thead th {\n",
       "        text-align: right;\n",
       "    }\n",
       "</style>\n",
       "<table border=\"1\" class=\"dataframe\">\n",
       "  <thead>\n",
       "    <tr style=\"text-align: right;\">\n",
       "      <th></th>\n",
       "      <th>race1_ID</th>\n",
       "      <th>district1</th>\n",
       "      <th>state1</th>\n",
       "      <th>A1_id</th>\n",
       "      <th>A_ICPSR_x</th>\n",
       "      <th>A1_name</th>\n",
       "      <th>A1_party</th>\n",
       "      <th>A1_IC</th>\n",
       "      <th>A1_spent</th>\n",
       "      <th>A1_raised</th>\n",
       "      <th>...</th>\n",
       "      <th>A2_outcome</th>\n",
       "      <th>B2_id</th>\n",
       "      <th>B_ICPSR_y</th>\n",
       "      <th>B2_name</th>\n",
       "      <th>B2_party</th>\n",
       "      <th>B2_IC</th>\n",
       "      <th>B2_spent</th>\n",
       "      <th>B2_raised</th>\n",
       "      <th>B2_pct</th>\n",
       "      <th>B2_outcome</th>\n",
       "    </tr>\n",
       "  </thead>\n",
       "  <tbody>\n",
       "    <tr>\n",
       "      <th>0</th>\n",
       "      <td>1980-TX21</td>\n",
       "      <td>TX21</td>\n",
       "      <td>TX</td>\n",
       "      <td>H8TX21067</td>\n",
       "      <td>146451980</td>\n",
       "      <td>loeffler, tom</td>\n",
       "      <td>200</td>\n",
       "      <td>I</td>\n",
       "      <td>330566.0</td>\n",
       "      <td>479486.0</td>\n",
       "      <td>...</td>\n",
       "      <td>W</td>\n",
       "      <td>H6TX21095</td>\n",
       "      <td>H6TX210951984</td>\n",
       "      <td>sullivan, joe</td>\n",
       "      <td>100</td>\n",
       "      <td>C</td>\n",
       "      <td>4245.0</td>\n",
       "      <td>4245.0</td>\n",
       "      <td>19.0</td>\n",
       "      <td>L</td>\n",
       "    </tr>\n",
       "    <tr>\n",
       "      <th>1</th>\n",
       "      <td>1980-NE02</td>\n",
       "      <td>NE02</td>\n",
       "      <td>NE</td>\n",
       "      <td>H8NE02022</td>\n",
       "      <td>148101980</td>\n",
       "      <td>daub, harold john jr (hal)</td>\n",
       "      <td>200</td>\n",
       "      <td>O</td>\n",
       "      <td>329671.0</td>\n",
       "      <td>331903.0</td>\n",
       "      <td>...</td>\n",
       "      <td>W</td>\n",
       "      <td>H0NE02052</td>\n",
       "      <td>H0NE020521982</td>\n",
       "      <td>fellman, richard m</td>\n",
       "      <td>100</td>\n",
       "      <td>C</td>\n",
       "      <td>160320.0</td>\n",
       "      <td>160320.0</td>\n",
       "      <td>43.0</td>\n",
       "      <td>L</td>\n",
       "    </tr>\n",
       "    <tr>\n",
       "      <th>2</th>\n",
       "      <td>1980-TX13</td>\n",
       "      <td>TX13</td>\n",
       "      <td>TX</td>\n",
       "      <td>H6TX13027</td>\n",
       "      <td>142341980</td>\n",
       "      <td>hightower, jack</td>\n",
       "      <td>100</td>\n",
       "      <td>I</td>\n",
       "      <td>145292.0</td>\n",
       "      <td>129293.0</td>\n",
       "      <td>...</td>\n",
       "      <td>W</td>\n",
       "      <td>H0TX13012</td>\n",
       "      <td>H0TX130121982</td>\n",
       "      <td>slover, ronald edward</td>\n",
       "      <td>200</td>\n",
       "      <td>C</td>\n",
       "      <td>82625.0</td>\n",
       "      <td>95154.0</td>\n",
       "      <td>35.0</td>\n",
       "      <td>L</td>\n",
       "    </tr>\n",
       "    <tr>\n",
       "      <th>3</th>\n",
       "      <td>1980-NM01</td>\n",
       "      <td>NM01</td>\n",
       "      <td>NM</td>\n",
       "      <td>H6NM01020</td>\n",
       "      <td>120221980</td>\n",
       "      <td>lujan, manuel jr</td>\n",
       "      <td>200</td>\n",
       "      <td>I</td>\n",
       "      <td>178309.0</td>\n",
       "      <td>185664.0</td>\n",
       "      <td>...</td>\n",
       "      <td>W</td>\n",
       "      <td>H0NM01015</td>\n",
       "      <td>150551984</td>\n",
       "      <td>richardson, william b</td>\n",
       "      <td>100</td>\n",
       "      <td>I</td>\n",
       "      <td>425934.0</td>\n",
       "      <td>439746.0</td>\n",
       "      <td>60.0</td>\n",
       "      <td>W</td>\n",
       "    </tr>\n",
       "    <tr>\n",
       "      <th>4</th>\n",
       "      <td>1980-MD02</td>\n",
       "      <td>MD02</td>\n",
       "      <td>MD</td>\n",
       "      <td>H6MD02039</td>\n",
       "      <td>106011980</td>\n",
       "      <td>long, clarence dickinson</td>\n",
       "      <td>100</td>\n",
       "      <td>I</td>\n",
       "      <td>153619.0</td>\n",
       "      <td>158280.0</td>\n",
       "      <td>...</td>\n",
       "      <td>W</td>\n",
       "      <td>H0MD02057</td>\n",
       "      <td>150861982</td>\n",
       "      <td>bentley, helen delich</td>\n",
       "      <td>200</td>\n",
       "      <td>C</td>\n",
       "      <td>209059.0</td>\n",
       "      <td>210254.0</td>\n",
       "      <td>47.0</td>\n",
       "      <td>L</td>\n",
       "    </tr>\n",
       "  </tbody>\n",
       "</table>\n",
       "<p>5 rows × 43 columns</p>\n",
       "</div>"
      ],
      "text/plain": [
       "    race1_ID district1 state1      A1_id  A_ICPSR_x  \\\n",
       "0  1980-TX21      TX21     TX  H8TX21067  146451980   \n",
       "1  1980-NE02      NE02     NE  H8NE02022  148101980   \n",
       "2  1980-TX13      TX13     TX  H6TX13027  142341980   \n",
       "3  1980-NM01      NM01     NM  H6NM01020  120221980   \n",
       "4  1980-MD02      MD02     MD  H6MD02039  106011980   \n",
       "\n",
       "                      A1_name  A1_party A1_IC  A1_spent  A1_raised  \\\n",
       "0               loeffler, tom       200     I  330566.0   479486.0   \n",
       "1  daub, harold john jr (hal)       200     O  329671.0   331903.0   \n",
       "2             hightower, jack       100     I  145292.0   129293.0   \n",
       "3            lujan, manuel jr       200     I  178309.0   185664.0   \n",
       "4    long, clarence dickinson       100     I  153619.0   158280.0   \n",
       "\n",
       "      ...      A2_outcome      B2_id      B_ICPSR_y                B2_name  \\\n",
       "0     ...               W  H6TX21095  H6TX210951984          sullivan, joe   \n",
       "1     ...               W  H0NE02052  H0NE020521982     fellman, richard m   \n",
       "2     ...               W  H0TX13012  H0TX130121982  slover, ronald edward   \n",
       "3     ...               W  H0NM01015      150551984  richardson, william b   \n",
       "4     ...               W  H0MD02057      150861982  bentley, helen delich   \n",
       "\n",
       "  B2_party  B2_IC  B2_spent  B2_raised  B2_pct  B2_outcome  \n",
       "0      100      C    4245.0     4245.0    19.0           L  \n",
       "1      100      C  160320.0   160320.0    43.0           L  \n",
       "2      200      C   82625.0    95154.0    35.0           L  \n",
       "3      100      I  425934.0   439746.0    60.0           W  \n",
       "4      200      C  209059.0   210254.0    47.0           L  \n",
       "\n",
       "[5 rows x 43 columns]"
      ]
     },
     "execution_count": 21,
     "metadata": {},
     "output_type": "execute_result"
    }
   ],
   "source": [
    "print(full_df.shape)\n",
    "full_df.head()"
   ]
  },
  {
   "cell_type": "code",
   "execution_count": 22,
   "metadata": {},
   "outputs": [],
   "source": [
    "full_order = full_df.columns.tolist()\n",
    "seven_col = ['top_cands', 'race1_ID', 'race2_ID', 'state1', 'state2', 'district1', 'district2']\n",
    "for each in seven_col:\n",
    "    full_order.remove(each)\n",
    "new_order = seven_col + full_order"
   ]
  },
  {
   "cell_type": "code",
   "execution_count": 23,
   "metadata": {},
   "outputs": [
    {
     "name": "stdout",
     "output_type": "stream",
     "text": [
      "(585, 43)\n"
     ]
    },
    {
     "data": {
      "text/html": [
       "<div>\n",
       "<style scoped>\n",
       "    .dataframe tbody tr th:only-of-type {\n",
       "        vertical-align: middle;\n",
       "    }\n",
       "\n",
       "    .dataframe tbody tr th {\n",
       "        vertical-align: top;\n",
       "    }\n",
       "\n",
       "    .dataframe thead th {\n",
       "        text-align: right;\n",
       "    }\n",
       "</style>\n",
       "<table border=\"1\" class=\"dataframe\">\n",
       "  <thead>\n",
       "    <tr style=\"text-align: right;\">\n",
       "      <th></th>\n",
       "      <th>top_cands</th>\n",
       "      <th>race1_ID</th>\n",
       "      <th>race2_ID</th>\n",
       "      <th>state1</th>\n",
       "      <th>state2</th>\n",
       "      <th>district1</th>\n",
       "      <th>district2</th>\n",
       "      <th>A1_id</th>\n",
       "      <th>A_ICPSR_x</th>\n",
       "      <th>A1_name</th>\n",
       "      <th>...</th>\n",
       "      <th>A2_outcome</th>\n",
       "      <th>B2_id</th>\n",
       "      <th>B_ICPSR_y</th>\n",
       "      <th>B2_name</th>\n",
       "      <th>B2_party</th>\n",
       "      <th>B2_IC</th>\n",
       "      <th>B2_spent</th>\n",
       "      <th>B2_raised</th>\n",
       "      <th>B2_pct</th>\n",
       "      <th>B2_outcome</th>\n",
       "    </tr>\n",
       "  </thead>\n",
       "  <tbody>\n",
       "    <tr>\n",
       "      <th>0</th>\n",
       "      <td>H8TX21067-H6TX21095</td>\n",
       "      <td>1980-TX21</td>\n",
       "      <td>1984-TX21</td>\n",
       "      <td>TX</td>\n",
       "      <td>TX</td>\n",
       "      <td>TX21</td>\n",
       "      <td>TX21</td>\n",
       "      <td>H8TX21067</td>\n",
       "      <td>146451980</td>\n",
       "      <td>loeffler, tom</td>\n",
       "      <td>...</td>\n",
       "      <td>W</td>\n",
       "      <td>H6TX21095</td>\n",
       "      <td>H6TX210951984</td>\n",
       "      <td>sullivan, joe</td>\n",
       "      <td>100</td>\n",
       "      <td>C</td>\n",
       "      <td>4245.0</td>\n",
       "      <td>4245.0</td>\n",
       "      <td>19.0</td>\n",
       "      <td>L</td>\n",
       "    </tr>\n",
       "    <tr>\n",
       "      <th>1</th>\n",
       "      <td>H8NE02022-H0NE02052</td>\n",
       "      <td>1980-NE02</td>\n",
       "      <td>1982-NE02</td>\n",
       "      <td>NE</td>\n",
       "      <td>NE</td>\n",
       "      <td>NE02</td>\n",
       "      <td>NE02</td>\n",
       "      <td>H8NE02022</td>\n",
       "      <td>148101980</td>\n",
       "      <td>daub, harold john jr (hal)</td>\n",
       "      <td>...</td>\n",
       "      <td>W</td>\n",
       "      <td>H0NE02052</td>\n",
       "      <td>H0NE020521982</td>\n",
       "      <td>fellman, richard m</td>\n",
       "      <td>100</td>\n",
       "      <td>C</td>\n",
       "      <td>160320.0</td>\n",
       "      <td>160320.0</td>\n",
       "      <td>43.0</td>\n",
       "      <td>L</td>\n",
       "    </tr>\n",
       "    <tr>\n",
       "      <th>2</th>\n",
       "      <td>H6TX13027-H0TX13012</td>\n",
       "      <td>1980-TX13</td>\n",
       "      <td>1982-TX13</td>\n",
       "      <td>TX</td>\n",
       "      <td>TX</td>\n",
       "      <td>TX13</td>\n",
       "      <td>TX13</td>\n",
       "      <td>H6TX13027</td>\n",
       "      <td>142341980</td>\n",
       "      <td>hightower, jack</td>\n",
       "      <td>...</td>\n",
       "      <td>W</td>\n",
       "      <td>H0TX13012</td>\n",
       "      <td>H0TX130121982</td>\n",
       "      <td>slover, ronald edward</td>\n",
       "      <td>200</td>\n",
       "      <td>C</td>\n",
       "      <td>82625.0</td>\n",
       "      <td>95154.0</td>\n",
       "      <td>35.0</td>\n",
       "      <td>L</td>\n",
       "    </tr>\n",
       "    <tr>\n",
       "      <th>3</th>\n",
       "      <td>H6NM01020-H0NM01015</td>\n",
       "      <td>1980-NM01</td>\n",
       "      <td>1984-NM01</td>\n",
       "      <td>NM</td>\n",
       "      <td>NM</td>\n",
       "      <td>NM01</td>\n",
       "      <td>NM01</td>\n",
       "      <td>H6NM01020</td>\n",
       "      <td>120221980</td>\n",
       "      <td>lujan, manuel jr</td>\n",
       "      <td>...</td>\n",
       "      <td>W</td>\n",
       "      <td>H0NM01015</td>\n",
       "      <td>150551984</td>\n",
       "      <td>richardson, william b</td>\n",
       "      <td>100</td>\n",
       "      <td>I</td>\n",
       "      <td>425934.0</td>\n",
       "      <td>439746.0</td>\n",
       "      <td>60.0</td>\n",
       "      <td>W</td>\n",
       "    </tr>\n",
       "    <tr>\n",
       "      <th>4</th>\n",
       "      <td>H6MD02039-H0MD02057</td>\n",
       "      <td>1980-MD02</td>\n",
       "      <td>1982-MD02</td>\n",
       "      <td>MD</td>\n",
       "      <td>MD</td>\n",
       "      <td>MD02</td>\n",
       "      <td>MD02</td>\n",
       "      <td>H6MD02039</td>\n",
       "      <td>106011980</td>\n",
       "      <td>long, clarence dickinson</td>\n",
       "      <td>...</td>\n",
       "      <td>W</td>\n",
       "      <td>H0MD02057</td>\n",
       "      <td>150861982</td>\n",
       "      <td>bentley, helen delich</td>\n",
       "      <td>200</td>\n",
       "      <td>C</td>\n",
       "      <td>209059.0</td>\n",
       "      <td>210254.0</td>\n",
       "      <td>47.0</td>\n",
       "      <td>L</td>\n",
       "    </tr>\n",
       "  </tbody>\n",
       "</table>\n",
       "<p>5 rows × 43 columns</p>\n",
       "</div>"
      ],
      "text/plain": [
       "             top_cands   race1_ID   race2_ID state1 state2 district1  \\\n",
       "0  H8TX21067-H6TX21095  1980-TX21  1984-TX21     TX     TX      TX21   \n",
       "1  H8NE02022-H0NE02052  1980-NE02  1982-NE02     NE     NE      NE02   \n",
       "2  H6TX13027-H0TX13012  1980-TX13  1982-TX13     TX     TX      TX13   \n",
       "3  H6NM01020-H0NM01015  1980-NM01  1984-NM01     NM     NM      NM01   \n",
       "4  H6MD02039-H0MD02057  1980-MD02  1982-MD02     MD     MD      MD02   \n",
       "\n",
       "  district2      A1_id  A_ICPSR_x                     A1_name     ...      \\\n",
       "0      TX21  H8TX21067  146451980               loeffler, tom     ...       \n",
       "1      NE02  H8NE02022  148101980  daub, harold john jr (hal)     ...       \n",
       "2      TX13  H6TX13027  142341980             hightower, jack     ...       \n",
       "3      NM01  H6NM01020  120221980            lujan, manuel jr     ...       \n",
       "4      MD02  H6MD02039  106011980    long, clarence dickinson     ...       \n",
       "\n",
       "   A2_outcome      B2_id      B_ICPSR_y                B2_name  B2_party  \\\n",
       "0           W  H6TX21095  H6TX210951984          sullivan, joe       100   \n",
       "1           W  H0NE02052  H0NE020521982     fellman, richard m       100   \n",
       "2           W  H0TX13012  H0TX130121982  slover, ronald edward       200   \n",
       "3           W  H0NM01015      150551984  richardson, william b       100   \n",
       "4           W  H0MD02057      150861982  bentley, helen delich       200   \n",
       "\n",
       "  B2_IC  B2_spent B2_raised B2_pct  B2_outcome  \n",
       "0     C    4245.0    4245.0   19.0           L  \n",
       "1     C  160320.0  160320.0   43.0           L  \n",
       "2     C   82625.0   95154.0   35.0           L  \n",
       "3     I  425934.0  439746.0   60.0           W  \n",
       "4     C  209059.0  210254.0   47.0           L  \n",
       "\n",
       "[5 rows x 43 columns]"
      ]
     },
     "execution_count": 23,
     "metadata": {},
     "output_type": "execute_result"
    }
   ],
   "source": [
    "full_df = full_df.reindex(columns=new_order)\n",
    "print(full_df.shape)\n",
    "full_df.head()"
   ]
  },
  {
   "cell_type": "markdown",
   "metadata": {},
   "source": [
    "### Check for any rematches that don't occur in the same state\n",
    "\n",
    "Check whether the first race and the second race have the same value in the 'STATE' column. "
   ]
  },
  {
   "cell_type": "code",
   "execution_count": 24,
   "metadata": {
    "scrolled": true
   },
   "outputs": [
    {
     "data": {
      "text/plain": [
       "585"
      ]
     },
     "execution_count": 24,
     "metadata": {},
     "output_type": "execute_result"
    }
   ],
   "source": [
    "full_df[full_df.state1 == full_df.state2].top_cands.count()"
   ]
  },
  {
   "cell_type": "markdown",
   "metadata": {},
   "source": [
    "### Check for any rematches that don't occur in the same district\n",
    "\n",
    "Check whether the first race and the second race have the same value in the 'DISTRICT' column. "
   ]
  },
  {
   "cell_type": "code",
   "execution_count": 25,
   "metadata": {},
   "outputs": [],
   "source": [
    "full_df[full_df.district1 == full_df.district2].top_cands.count()\n",
    "### Exclude rematches if the two races didn't occur in the same district\n",
    "full_df = full_df[full_df.district1 == full_df.district2]"
   ]
  },
  {
   "cell_type": "markdown",
   "metadata": {},
   "source": [
    "### Check how often the 'Challenger' candidate lost the first race"
   ]
  },
  {
   "cell_type": "code",
   "execution_count": 26,
   "metadata": {},
   "outputs": [
    {
     "name": "stdout",
     "output_type": "stream",
     "text": [
      "493\n"
     ]
    }
   ],
   "source": [
    "print(full_df[full_df.B1_IC == 'C'].top_cands.count())\n",
    "### Exclude rematches if the Challenger won; that would make \n",
    "full_df = full_df[full_df.B1_IC == 'C']"
   ]
  },
  {
   "cell_type": "markdown",
   "metadata": {},
   "source": [
    "### Check how often the losing candidate switched parties after the election\n",
    "(I also checked the winning candidates, but there weren't any party switches)"
   ]
  },
  {
   "cell_type": "code",
   "execution_count": 27,
   "metadata": {
    "scrolled": true
   },
   "outputs": [
    {
     "name": "stdout",
     "output_type": "stream",
     "text": [
      "493\n",
      "479\n"
     ]
    }
   ],
   "source": [
    "print(full_df[full_df.A2_party == full_df.A1_party].top_cands.count())\n",
    "print(full_df[full_df.B2_party == full_df.B1_party].top_cands.count())\n",
    "full_df = full_df[full_df.B2_party == full_df.B1_party]"
   ]
  },
  {
   "cell_type": "markdown",
   "metadata": {},
   "source": [
    "#### Party switches\n",
    "Independent to Republican: 9 // Independent to Democrat: 2 // Republican to Independent: 3"
   ]
  },
  {
   "cell_type": "markdown",
   "metadata": {},
   "source": [
    "#### Side note : Here's a quick demo of why we didn't use candidate names to find rematches"
   ]
  },
  {
   "cell_type": "code",
   "execution_count": 28,
   "metadata": {},
   "outputs": [
    {
     "data": {
      "text/html": [
       "<div>\n",
       "<style scoped>\n",
       "    .dataframe tbody tr th:only-of-type {\n",
       "        vertical-align: middle;\n",
       "    }\n",
       "\n",
       "    .dataframe tbody tr th {\n",
       "        vertical-align: top;\n",
       "    }\n",
       "\n",
       "    .dataframe thead th {\n",
       "        text-align: right;\n",
       "    }\n",
       "</style>\n",
       "<table border=\"1\" class=\"dataframe\">\n",
       "  <thead>\n",
       "    <tr style=\"text-align: right;\">\n",
       "      <th></th>\n",
       "      <th>Name recorded for 1st election</th>\n",
       "      <th>Name recorded for 2nd election</th>\n",
       "    </tr>\n",
       "  </thead>\n",
       "  <tbody>\n",
       "    <tr>\n",
       "      <th>0</th>\n",
       "      <td>sullivan, joseph pierre</td>\n",
       "      <td>sullivan, joe</td>\n",
       "    </tr>\n",
       "    <tr>\n",
       "      <th>8</th>\n",
       "      <td>trimarco, thomas m</td>\n",
       "      <td>trimarco, thomas h</td>\n",
       "    </tr>\n",
       "    <tr>\n",
       "      <th>14</th>\n",
       "      <td>sherck, james robert</td>\n",
       "      <td>sherck, james r</td>\n",
       "    </tr>\n",
       "    <tr>\n",
       "      <th>16</th>\n",
       "      <td>bagnal, anne</td>\n",
       "      <td>bagnal, anne broyles</td>\n",
       "    </tr>\n",
       "    <tr>\n",
       "      <th>17</th>\n",
       "      <td>white, william e</td>\n",
       "      <td>white, william ephriam</td>\n",
       "    </tr>\n",
       "    <tr>\n",
       "      <th>18</th>\n",
       "      <td>carlson, gerald russell</td>\n",
       "      <td>carlson, gerald r</td>\n",
       "    </tr>\n",
       "    <tr>\n",
       "      <th>19</th>\n",
       "      <td>watson, mark temple</td>\n",
       "      <td>watson, mark</td>\n",
       "    </tr>\n",
       "    <tr>\n",
       "      <th>22</th>\n",
       "      <td>kennedy, william j</td>\n",
       "      <td>kennedy, bill</td>\n",
       "    </tr>\n",
       "    <tr>\n",
       "      <th>30</th>\n",
       "      <td>maxwell, dr. allen b.</td>\n",
       "      <td>maxwell, allen b</td>\n",
       "    </tr>\n",
       "    <tr>\n",
       "      <th>38</th>\n",
       "      <td>buchanan, john morton</td>\n",
       "      <td>buchanan, john m</td>\n",
       "    </tr>\n",
       "  </tbody>\n",
       "</table>\n",
       "</div>"
      ],
      "text/plain": [
       "   Name recorded for 1st election Name recorded for 2nd election\n",
       "0         sullivan, joseph pierre                  sullivan, joe\n",
       "8              trimarco, thomas m             trimarco, thomas h\n",
       "14           sherck, james robert                sherck, james r\n",
       "16                   bagnal, anne           bagnal, anne broyles\n",
       "17               white, william e         white, william ephriam\n",
       "18        carlson, gerald russell              carlson, gerald r\n",
       "19            watson, mark temple                   watson, mark\n",
       "22             kennedy, william j                  kennedy, bill\n",
       "30          maxwell, dr. allen b.               maxwell, allen b\n",
       "38          buchanan, john morton               buchanan, john m"
      ]
     },
     "execution_count": 28,
     "metadata": {},
     "output_type": "execute_result"
    }
   ],
   "source": [
    "name_mismatch = full_df[full_df.B2_name != full_df.B1_name][['B1_name', 'B2_name']]\n",
    "name_mismatch.rename(columns={ 'B1_name':'Name recorded for 1st election' , 'B2_name':'Name recorded for 2nd election' }, inplace=True)\n",
    "name_mismatch.head(10)"
   ]
  },
  {
   "cell_type": "code",
   "execution_count": 29,
   "metadata": {},
   "outputs": [
    {
     "data": {
      "text/plain": [
       "Index(['top_cands', 'race1_ID', 'race2_ID', 'state1', 'state2', 'district1',\n",
       "       'district2', 'A1_id', 'A_ICPSR_x', 'A1_name', 'A1_party', 'A1_IC',\n",
       "       'A1_spent', 'A1_raised', 'A1_pct', 'A1_outcome', 'B1_id', 'B_ICPSR_x',\n",
       "       'B1_name', 'B1_party', 'B1_IC', 'B1_spent', 'B1_raised', 'B1_pct',\n",
       "       'B1_outcome', 'A2_id', 'A_ICPSR_y', 'A2_name', 'A2_party', 'A2_IC',\n",
       "       'A2_spent', 'A2_raised', 'A2_pct', 'A2_outcome', 'B2_id', 'B_ICPSR_y',\n",
       "       'B2_name', 'B2_party', 'B2_IC', 'B2_spent', 'B2_raised', 'B2_pct',\n",
       "       'B2_outcome'],\n",
       "      dtype='object')"
      ]
     },
     "execution_count": 29,
     "metadata": {},
     "output_type": "execute_result"
    }
   ],
   "source": [
    "full_df.columns"
   ]
  },
  {
   "cell_type": "code",
   "execution_count": 30,
   "metadata": {},
   "outputs": [],
   "source": [
    "# full_df.drop(['state2', 'B_ICPSR_y', 'A_ICPSR_y'], axis=1, inplace=True)\n",
    "col_rename = {'state1':'state', 'B_ICPSR_x':'B_ICPSR', 'A_ICPSR_x':'A_ICPSR'}\n",
    "full_df.rename(col_rename, axis='columns', inplace=True)"
   ]
  },
  {
   "cell_type": "code",
   "execution_count": 31,
   "metadata": {},
   "outputs": [
    {
     "name": "stdout",
     "output_type": "stream",
     "text": [
      "(479, 43)\n"
     ]
    },
    {
     "data": {
      "text/html": [
       "<div>\n",
       "<style scoped>\n",
       "    .dataframe tbody tr th:only-of-type {\n",
       "        vertical-align: middle;\n",
       "    }\n",
       "\n",
       "    .dataframe tbody tr th {\n",
       "        vertical-align: top;\n",
       "    }\n",
       "\n",
       "    .dataframe thead th {\n",
       "        text-align: right;\n",
       "    }\n",
       "</style>\n",
       "<table border=\"1\" class=\"dataframe\">\n",
       "  <thead>\n",
       "    <tr style=\"text-align: right;\">\n",
       "      <th></th>\n",
       "      <th>top_cands</th>\n",
       "      <th>race1_ID</th>\n",
       "      <th>race2_ID</th>\n",
       "      <th>state</th>\n",
       "      <th>state2</th>\n",
       "      <th>district1</th>\n",
       "      <th>district2</th>\n",
       "      <th>A1_id</th>\n",
       "      <th>A_ICPSR</th>\n",
       "      <th>A1_name</th>\n",
       "      <th>...</th>\n",
       "      <th>A2_outcome</th>\n",
       "      <th>B2_id</th>\n",
       "      <th>B_ICPSR_y</th>\n",
       "      <th>B2_name</th>\n",
       "      <th>B2_party</th>\n",
       "      <th>B2_IC</th>\n",
       "      <th>B2_spent</th>\n",
       "      <th>B2_raised</th>\n",
       "      <th>B2_pct</th>\n",
       "      <th>B2_outcome</th>\n",
       "    </tr>\n",
       "  </thead>\n",
       "  <tbody>\n",
       "    <tr>\n",
       "      <th>0</th>\n",
       "      <td>H8TX21067-H6TX21095</td>\n",
       "      <td>1980-TX21</td>\n",
       "      <td>1984-TX21</td>\n",
       "      <td>TX</td>\n",
       "      <td>TX</td>\n",
       "      <td>TX21</td>\n",
       "      <td>TX21</td>\n",
       "      <td>H8TX21067</td>\n",
       "      <td>146451980</td>\n",
       "      <td>loeffler, tom</td>\n",
       "      <td>...</td>\n",
       "      <td>W</td>\n",
       "      <td>H6TX21095</td>\n",
       "      <td>H6TX210951984</td>\n",
       "      <td>sullivan, joe</td>\n",
       "      <td>100</td>\n",
       "      <td>C</td>\n",
       "      <td>4245.0</td>\n",
       "      <td>4245.0</td>\n",
       "      <td>19.0</td>\n",
       "      <td>L</td>\n",
       "    </tr>\n",
       "    <tr>\n",
       "      <th>2</th>\n",
       "      <td>H6TX13027-H0TX13012</td>\n",
       "      <td>1980-TX13</td>\n",
       "      <td>1982-TX13</td>\n",
       "      <td>TX</td>\n",
       "      <td>TX</td>\n",
       "      <td>TX13</td>\n",
       "      <td>TX13</td>\n",
       "      <td>H6TX13027</td>\n",
       "      <td>142341980</td>\n",
       "      <td>hightower, jack</td>\n",
       "      <td>...</td>\n",
       "      <td>W</td>\n",
       "      <td>H0TX13012</td>\n",
       "      <td>H0TX130121982</td>\n",
       "      <td>slover, ronald edward</td>\n",
       "      <td>200</td>\n",
       "      <td>C</td>\n",
       "      <td>82625.0</td>\n",
       "      <td>95154.0</td>\n",
       "      <td>35.0</td>\n",
       "      <td>L</td>\n",
       "    </tr>\n",
       "    <tr>\n",
       "      <th>3</th>\n",
       "      <td>H6NM01020-H0NM01015</td>\n",
       "      <td>1980-NM01</td>\n",
       "      <td>1984-NM01</td>\n",
       "      <td>NM</td>\n",
       "      <td>NM</td>\n",
       "      <td>NM01</td>\n",
       "      <td>NM01</td>\n",
       "      <td>H6NM01020</td>\n",
       "      <td>120221980</td>\n",
       "      <td>lujan, manuel jr</td>\n",
       "      <td>...</td>\n",
       "      <td>W</td>\n",
       "      <td>H0NM01015</td>\n",
       "      <td>150551984</td>\n",
       "      <td>richardson, william b</td>\n",
       "      <td>100</td>\n",
       "      <td>I</td>\n",
       "      <td>425934.0</td>\n",
       "      <td>439746.0</td>\n",
       "      <td>60.0</td>\n",
       "      <td>W</td>\n",
       "    </tr>\n",
       "    <tr>\n",
       "      <th>4</th>\n",
       "      <td>H6MD02039-H0MD02057</td>\n",
       "      <td>1980-MD02</td>\n",
       "      <td>1982-MD02</td>\n",
       "      <td>MD</td>\n",
       "      <td>MD</td>\n",
       "      <td>MD02</td>\n",
       "      <td>MD02</td>\n",
       "      <td>H6MD02039</td>\n",
       "      <td>106011980</td>\n",
       "      <td>long, clarence dickinson</td>\n",
       "      <td>...</td>\n",
       "      <td>W</td>\n",
       "      <td>H0MD02057</td>\n",
       "      <td>150861982</td>\n",
       "      <td>bentley, helen delich</td>\n",
       "      <td>200</td>\n",
       "      <td>C</td>\n",
       "      <td>209059.0</td>\n",
       "      <td>210254.0</td>\n",
       "      <td>47.0</td>\n",
       "      <td>L</td>\n",
       "    </tr>\n",
       "    <tr>\n",
       "      <th>6</th>\n",
       "      <td>H6CT04028-H0CT04039</td>\n",
       "      <td>1980-CT04</td>\n",
       "      <td>1982-CT04</td>\n",
       "      <td>CT</td>\n",
       "      <td>CT</td>\n",
       "      <td>CT04</td>\n",
       "      <td>CT04</td>\n",
       "      <td>H6CT04028</td>\n",
       "      <td>130291980</td>\n",
       "      <td>mckinney, stewart b.</td>\n",
       "      <td>...</td>\n",
       "      <td>W</td>\n",
       "      <td>H0CT04039</td>\n",
       "      <td>H0CT040391982</td>\n",
       "      <td>phillips, john aristotle</td>\n",
       "      <td>100</td>\n",
       "      <td>C</td>\n",
       "      <td>157953.0</td>\n",
       "      <td>156783.0</td>\n",
       "      <td>43.0</td>\n",
       "      <td>L</td>\n",
       "    </tr>\n",
       "  </tbody>\n",
       "</table>\n",
       "<p>5 rows × 43 columns</p>\n",
       "</div>"
      ],
      "text/plain": [
       "             top_cands   race1_ID   race2_ID state state2 district1 district2  \\\n",
       "0  H8TX21067-H6TX21095  1980-TX21  1984-TX21    TX     TX      TX21      TX21   \n",
       "2  H6TX13027-H0TX13012  1980-TX13  1982-TX13    TX     TX      TX13      TX13   \n",
       "3  H6NM01020-H0NM01015  1980-NM01  1984-NM01    NM     NM      NM01      NM01   \n",
       "4  H6MD02039-H0MD02057  1980-MD02  1982-MD02    MD     MD      MD02      MD02   \n",
       "6  H6CT04028-H0CT04039  1980-CT04  1982-CT04    CT     CT      CT04      CT04   \n",
       "\n",
       "       A1_id    A_ICPSR                   A1_name     ...      A2_outcome  \\\n",
       "0  H8TX21067  146451980             loeffler, tom     ...               W   \n",
       "2  H6TX13027  142341980           hightower, jack     ...               W   \n",
       "3  H6NM01020  120221980          lujan, manuel jr     ...               W   \n",
       "4  H6MD02039  106011980  long, clarence dickinson     ...               W   \n",
       "6  H6CT04028  130291980      mckinney, stewart b.     ...               W   \n",
       "\n",
       "       B2_id      B_ICPSR_y                   B2_name  B2_party B2_IC  \\\n",
       "0  H6TX21095  H6TX210951984             sullivan, joe       100     C   \n",
       "2  H0TX13012  H0TX130121982     slover, ronald edward       200     C   \n",
       "3  H0NM01015      150551984     richardson, william b       100     I   \n",
       "4  H0MD02057      150861982     bentley, helen delich       200     C   \n",
       "6  H0CT04039  H0CT040391982  phillips, john aristotle       100     C   \n",
       "\n",
       "   B2_spent B2_raised B2_pct  B2_outcome  \n",
       "0    4245.0    4245.0   19.0           L  \n",
       "2   82625.0   95154.0   35.0           L  \n",
       "3  425934.0  439746.0   60.0           W  \n",
       "4  209059.0  210254.0   47.0           L  \n",
       "6  157953.0  156783.0   43.0           L  \n",
       "\n",
       "[5 rows x 43 columns]"
      ]
     },
     "execution_count": 31,
     "metadata": {},
     "output_type": "execute_result"
    }
   ],
   "source": [
    "print(full_df.shape)\n",
    "full_df.head()"
   ]
  },
  {
   "cell_type": "code",
   "execution_count": 32,
   "metadata": {},
   "outputs": [],
   "source": [
    "full_df.dropna(axis=0, inplace=True)"
   ]
  },
  {
   "cell_type": "code",
   "execution_count": 33,
   "metadata": {},
   "outputs": [],
   "source": [
    "full_df['delta_A%'] = full_df.A2_pct - full_df.A1_pct\n",
    "full_df['delta_B%'] = full_df.B2_pct - full_df.B1_pct\n",
    "full_df['delta_A$'] = full_df.A2_spent - full_df.A1_spent\n",
    "full_df['delta_B$'] = full_df.B2_spent - full_df.B1_spent\n",
    "full_df['delta_A$%'] = (full_df.A2_spent - full_df.A1_spent)/full_df.A1_spent\n",
    "full_df['delta_B$%'] = (full_df.B2_spent - full_df.B1_spent)/full_df.B1_spent"
   ]
  },
  {
   "cell_type": "code",
   "execution_count": 34,
   "metadata": {},
   "outputs": [
    {
     "data": {
      "text/html": [
       "<div>\n",
       "<style scoped>\n",
       "    .dataframe tbody tr th:only-of-type {\n",
       "        vertical-align: middle;\n",
       "    }\n",
       "\n",
       "    .dataframe tbody tr th {\n",
       "        vertical-align: top;\n",
       "    }\n",
       "\n",
       "    .dataframe thead th {\n",
       "        text-align: right;\n",
       "    }\n",
       "</style>\n",
       "<table border=\"1\" class=\"dataframe\">\n",
       "  <thead>\n",
       "    <tr style=\"text-align: right;\">\n",
       "      <th></th>\n",
       "      <th>delta_A%</th>\n",
       "      <th>delta_A$</th>\n",
       "      <th>delta_A$%</th>\n",
       "      <th>delta_B%</th>\n",
       "      <th>delta_B$</th>\n",
       "      <th>delta_B$%</th>\n",
       "    </tr>\n",
       "  </thead>\n",
       "  <tbody>\n",
       "    <tr>\n",
       "      <th>0</th>\n",
       "      <td>3.0</td>\n",
       "      <td>118954.0</td>\n",
       "      <td>0.359849</td>\n",
       "      <td>-4.0</td>\n",
       "      <td>-41137.0</td>\n",
       "      <td>-0.906461</td>\n",
       "    </tr>\n",
       "    <tr>\n",
       "      <th>2</th>\n",
       "      <td>9.0</td>\n",
       "      <td>180705.0</td>\n",
       "      <td>1.243737</td>\n",
       "      <td>-10.0</td>\n",
       "      <td>14357.0</td>\n",
       "      <td>0.210304</td>\n",
       "    </tr>\n",
       "    <tr>\n",
       "      <th>3</th>\n",
       "      <td>13.0</td>\n",
       "      <td>319716.0</td>\n",
       "      <td>1.793045</td>\n",
       "      <td>11.0</td>\n",
       "      <td>191197.0</td>\n",
       "      <td>0.814516</td>\n",
       "    </tr>\n",
       "    <tr>\n",
       "      <th>4</th>\n",
       "      <td>-4.0</td>\n",
       "      <td>8820.0</td>\n",
       "      <td>0.057415</td>\n",
       "      <td>4.0</td>\n",
       "      <td>-43540.0</td>\n",
       "      <td>-0.172368</td>\n",
       "    </tr>\n",
       "    <tr>\n",
       "      <th>6</th>\n",
       "      <td>-7.0</td>\n",
       "      <td>74134.0</td>\n",
       "      <td>0.336693</td>\n",
       "      <td>6.0</td>\n",
       "      <td>2322.0</td>\n",
       "      <td>0.014920</td>\n",
       "    </tr>\n",
       "  </tbody>\n",
       "</table>\n",
       "</div>"
      ],
      "text/plain": [
       "   delta_A%  delta_A$  delta_A$%  delta_B%  delta_B$  delta_B$%\n",
       "0       3.0  118954.0   0.359849      -4.0  -41137.0  -0.906461\n",
       "2       9.0  180705.0   1.243737     -10.0   14357.0   0.210304\n",
       "3      13.0  319716.0   1.793045      11.0  191197.0   0.814516\n",
       "4      -4.0    8820.0   0.057415       4.0  -43540.0  -0.172368\n",
       "6      -7.0   74134.0   0.336693       6.0    2322.0   0.014920"
      ]
     },
     "execution_count": 34,
     "metadata": {},
     "output_type": "execute_result"
    }
   ],
   "source": [
    "full_df[['delta_A%', 'delta_A$','delta_A$%', 'delta_B%', 'delta_B$', 'delta_B$%']].head()"
   ]
  },
  {
   "cell_type": "markdown",
   "metadata": {},
   "source": [
    "### Challenger "
   ]
  },
  {
   "cell_type": "code",
   "execution_count": 35,
   "metadata": {},
   "outputs": [],
   "source": [
    "plot_B = full_df[['delta_B%', 'delta_B$', 'delta_B$%']]\n",
    "plot_B = plot_B.replace([np.inf, -np.inf], np.nan).dropna()\n",
    "\n",
    "Bx = plot_B['delta_B%'].values.reshape(-1, 1)\n",
    "By = plot_B['delta_B$'].values.reshape(-1, 1)"
   ]
  },
  {
   "cell_type": "code",
   "execution_count": 36,
   "metadata": {},
   "outputs": [],
   "source": [
    "from sklearn.linear_model import LinearRegression"
   ]
  },
  {
   "cell_type": "code",
   "execution_count": 37,
   "metadata": {},
   "outputs": [],
   "source": [
    "def plot_line(coef, intercept, x):\n",
    "    return (coef*x + intercept)"
   ]
  },
  {
   "cell_type": "code",
   "execution_count": 38,
   "metadata": {},
   "outputs": [],
   "source": [
    "lr = LinearRegression()\n",
    "reg_B = lr.fit(By, Bx)"
   ]
  },
  {
   "cell_type": "code",
   "execution_count": 39,
   "metadata": {},
   "outputs": [
    {
     "name": "stdout",
     "output_type": "stream",
     "text": [
      "R^2 Score:  0.0037044736327059846\n",
      "Slope:  9.51602523495621e-07\n",
      "Intercept:  -0.6642705109203743\n"
     ]
    }
   ],
   "source": [
    "coef_B = reg_B.coef_[0][0]\n",
    "intercept_B = reg_B.intercept_[0]\n",
    "\n",
    "print('R^2 Score: ', reg_B.score(By,Bx))\n",
    "print('Slope: ', coef_B)\n",
    "print('Intercept: ', intercept_B)"
   ]
  },
  {
   "cell_type": "code",
   "execution_count": 40,
   "metadata": {
    "scrolled": false
   },
   "outputs": [
    {
     "data": {
      "text/plain": [
       "(-20, 20)"
      ]
     },
     "execution_count": 40,
     "metadata": {},
     "output_type": "execute_result"
    },
    {
     "data": {
      "image/png": "[encoded data removed]",
      "text/plain": [
       "<Figure size 576x576 with 1 Axes>"
      ]
     },
     "metadata": {
      "needs_background": "light"
     },
     "output_type": "display_data"
    }
   ],
   "source": [
    "fig, ax = plt.subplots(1, figsize=(8,8))\n",
    "z = np.linspace(-4000000, 4000000, num=1200)\n",
    "ax.plot(z, plot_line(coef_B, intercept_B, z), '-')\n",
    "ax.scatter(By, Bx, alpha=1, s=3)\n",
    "ax.set_xlim(-2000000, 4000000)\n",
    "ax.set_ylim(-20, 20)"
   ]
  },
  {
   "cell_type": "markdown",
   "metadata": {},
   "source": [
    "### Evaluate by Party"
   ]
  },
  {
   "cell_type": "code",
   "execution_count": 41,
   "metadata": {},
   "outputs": [],
   "source": [
    "GOP_vote = full_df[full_df.B1_party == 200]['delta_B%'].values.reshape(-1,1)\n",
    "GOP_spend = full_df[full_df.B1_party == 200]['delta_B$'].values.reshape(-1,1)\n",
    "Dem_vote = full_df[full_df.B1_party == 100]['delta_B%'].values.reshape(-1,1)\n",
    "Dem_spend = full_df[full_df.B1_party == 100]['delta_B$'].values.reshape(-1,1)\n",
    "Ind_vote = full_df[full_df.B1_party == 328]['delta_B%'].values.reshape(-1,1)\n",
    "Ind_spend = full_df[full_df.B1_party == 328]['delta_B$'].values.reshape(-1,1)"
   ]
  },
  {
   "cell_type": "code",
   "execution_count": 42,
   "metadata": {},
   "outputs": [
    {
     "data": {
      "text/plain": [
       "2"
      ]
     },
     "execution_count": 42,
     "metadata": {},
     "output_type": "execute_result"
    }
   ],
   "source": [
    "### Check count of challengers running as independents\n",
    "len(Ind_vote)"
   ]
  },
  {
   "cell_type": "code",
   "execution_count": 43,
   "metadata": {},
   "outputs": [],
   "source": [
    "lr = LinearRegression()\n",
    "reg_GOP = lr.fit(GOP_spend, GOP_vote)"
   ]
  },
  {
   "cell_type": "code",
   "execution_count": 44,
   "metadata": {},
   "outputs": [
    {
     "name": "stdout",
     "output_type": "stream",
     "text": [
      "R^2 Score:  0.0065156919288350545\n",
      "Slope:  1.3977724081964062e-06\n",
      "Intercept:  -0.7669595016617103\n"
     ]
    }
   ],
   "source": [
    "coef_GOP = reg_GOP.coef_[0][0]\n",
    "intercept_GOP = reg_GOP.intercept_[0]\n",
    "\n",
    "print('R^2 Score: ', reg_GOP.score(GOP_spend, GOP_vote))\n",
    "print('Slope: ', coef_GOP)\n",
    "print('Intercept: ', intercept_GOP)"
   ]
  },
  {
   "cell_type": "code",
   "execution_count": 45,
   "metadata": {},
   "outputs": [
    {
     "name": "stdout",
     "output_type": "stream",
     "text": [
      "R^2 Score:  0.0016341941852479058\n",
      "Slope:  5.409011258773935e-07\n",
      "Intercept:  -0.6235482267375181\n"
     ]
    }
   ],
   "source": [
    "lr = LinearRegression()\n",
    "reg_Dem = lr.fit(Dem_spend, Dem_vote)\n",
    "\n",
    "coef_Dem = reg_Dem.coef_[0][0]\n",
    "intercept_Dem = reg_Dem.intercept_[0]\n",
    "\n",
    "print('R^2 Score: ', reg_Dem.score(Dem_spend, Dem_vote))\n",
    "print('Slope: ', coef_Dem)\n",
    "print('Intercept: ', intercept_Dem)"
   ]
  },
  {
   "cell_type": "code",
   "execution_count": 46,
   "metadata": {},
   "outputs": [
    {
     "data": {
      "text/plain": [
       "(-20, 20)"
      ]
     },
     "execution_count": 46,
     "metadata": {},
     "output_type": "execute_result"
    },
    {
     "data": {
      "image/png": "[encoded data removed]",
      "text/plain": [
       "<Figure size 576x576 with 1 Axes>"
      ]
     },
     "metadata": {
      "needs_background": "light"
     },
     "output_type": "display_data"
    }
   ],
   "source": [
    "fig, ax = plt.subplots(1, figsize=(8,8))\n",
    "z = np.linspace(-6000000, 6000000, num=1200)\n",
    "ax.plot(z, plot_line(coef_GOP, intercept_GOP, z), '-')\n",
    "ax.scatter(GOP_spend, GOP_vote, alpha=1, s=3)\n",
    "ax.set_xlim(-4000000, 4000000)\n",
    "ax.set_ylim(-80, 80)\n",
    "\n",
    "ax.plot(z, plot_line(coef_Dem, intercept_Dem, z), '-', color='blue')\n",
    "ax.scatter(Dem_spend, Dem_vote, alpha=1, s=3)\n",
    "ax.set_xlim(-2000000, 4000000)\n",
    "ax.set_ylim(-20, 20)"
   ]
  },
  {
   "cell_type": "code",
   "execution_count": null,
   "metadata": {},
   "outputs": [],
   "source": []
  }
 ],
 "metadata": {
  "kernelspec": {
   "display_name": "Python 3",
   "language": "python",
   "name": "python3"
  },
  "language_info": {
   "codemirror_mode": {
    "name": "ipython",
    "version": 3
   },
   "file_extension": ".py",
   "mimetype": "text/x-python",
   "name": "python",
   "nbconvert_exporter": "python",
   "pygments_lexer": "ipython3",
   "version": "3.7.1"
  }
 },
 "nbformat": 4,
 "nbformat_minor": 2
}
